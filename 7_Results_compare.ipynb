{
 "cells": [
  {
   "cell_type": "markdown",
   "id": "1c08bf18",
   "metadata": {},
   "source": [
    "# Comparing Results and Metrics\n",
    "\n",
    "Now that we have completed building the models, prdeiciting and forecasting them.\n",
    "\n",
    "We go ahead and check how well each model has performed and other such metrics."
   ]
  },
  {
   "cell_type": "markdown",
   "id": "87f938e5",
   "metadata": {},
   "source": [
    "### Import Dependencies"
   ]
  },
  {
   "cell_type": "code",
   "execution_count": 1,
   "id": "29205d9f",
   "metadata": {},
   "outputs": [],
   "source": [
    "import pandas as pd\n",
    "from sklearn.metrics import mean_squared_error as mse\n",
    "from math import sqrt\n",
    "from tabulate import tabulate"
   ]
  },
  {
   "cell_type": "markdown",
   "id": "d8e2fa44",
   "metadata": {},
   "source": [
    "### Import  Data"
   ]
  },
  {
   "cell_type": "code",
   "execution_count": 2,
   "id": "073bac75",
   "metadata": {},
   "outputs": [
    {
     "data": {
      "text/html": [
       "<div>\n",
       "<style scoped>\n",
       "    .dataframe tbody tr th:only-of-type {\n",
       "        vertical-align: middle;\n",
       "    }\n",
       "\n",
       "    .dataframe tbody tr th {\n",
       "        vertical-align: top;\n",
       "    }\n",
       "\n",
       "    .dataframe thead th {\n",
       "        text-align: right;\n",
       "    }\n",
       "</style>\n",
       "<table border=\"1\" class=\"dataframe\">\n",
       "  <thead>\n",
       "    <tr style=\"text-align: right;\">\n",
       "      <th></th>\n",
       "      <th>Date</th>\n",
       "      <th>Weighted_price</th>\n",
       "    </tr>\n",
       "  </thead>\n",
       "  <tbody>\n",
       "    <tr>\n",
       "      <th>2284</th>\n",
       "      <td>2021-07-12</td>\n",
       "      <td>370.189257</td>\n",
       "    </tr>\n",
       "    <tr>\n",
       "      <th>1099</th>\n",
       "      <td>2016-09-22</td>\n",
       "      <td>276.025118</td>\n",
       "    </tr>\n",
       "    <tr>\n",
       "      <th>1724</th>\n",
       "      <td>2019-04-04</td>\n",
       "      <td>365.377553</td>\n",
       "    </tr>\n",
       "  </tbody>\n",
       "</table>\n",
       "</div>"
      ],
      "text/plain": [
       "           Date  Weighted_price\n",
       "2284 2021-07-12      370.189257\n",
       "1099 2016-09-22      276.025118\n",
       "1724 2019-04-04      365.377553"
      ]
     },
     "execution_count": 2,
     "metadata": {},
     "output_type": "execute_result"
    }
   ],
   "source": [
    "data = pd.read_pickle('Timeseries_data.pkl')\n",
    "data.sample(3)"
   ]
  },
  {
   "cell_type": "code",
   "execution_count": 3,
   "id": "3f43e662",
   "metadata": {},
   "outputs": [
    {
     "data": {
      "text/html": [
       "<div>\n",
       "<style scoped>\n",
       "    .dataframe tbody tr th:only-of-type {\n",
       "        vertical-align: middle;\n",
       "    }\n",
       "\n",
       "    .dataframe tbody tr th {\n",
       "        vertical-align: top;\n",
       "    }\n",
       "\n",
       "    .dataframe thead th {\n",
       "        text-align: right;\n",
       "    }\n",
       "</style>\n",
       "<table border=\"1\" class=\"dataframe\">\n",
       "  <thead>\n",
       "    <tr style=\"text-align: right;\">\n",
       "      <th></th>\n",
       "      <th>Unnamed: 0</th>\n",
       "      <th>ds</th>\n",
       "      <th>trend</th>\n",
       "      <th>yhat_lower</th>\n",
       "      <th>yhat_upper</th>\n",
       "      <th>trend_lower</th>\n",
       "      <th>trend_upper</th>\n",
       "      <th>additive_terms</th>\n",
       "      <th>additive_terms_lower</th>\n",
       "      <th>additive_terms_upper</th>\n",
       "      <th>...</th>\n",
       "      <th>weekly</th>\n",
       "      <th>weekly_lower</th>\n",
       "      <th>weekly_upper</th>\n",
       "      <th>yearly</th>\n",
       "      <th>yearly_lower</th>\n",
       "      <th>yearly_upper</th>\n",
       "      <th>multiplicative_terms</th>\n",
       "      <th>multiplicative_terms_lower</th>\n",
       "      <th>multiplicative_terms_upper</th>\n",
       "      <th>yhat</th>\n",
       "    </tr>\n",
       "  </thead>\n",
       "  <tbody>\n",
       "    <tr>\n",
       "      <th>980</th>\n",
       "      <td>980</td>\n",
       "      <td>2016-03-30</td>\n",
       "      <td>231.398886</td>\n",
       "      <td>198.924233</td>\n",
       "      <td>251.840120</td>\n",
       "      <td>231.398886</td>\n",
       "      <td>231.398886</td>\n",
       "      <td>-6.277473</td>\n",
       "      <td>-6.277473</td>\n",
       "      <td>-6.277473</td>\n",
       "      <td>...</td>\n",
       "      <td>-1.516241</td>\n",
       "      <td>-1.516241</td>\n",
       "      <td>-1.516241</td>\n",
       "      <td>-5.985729</td>\n",
       "      <td>-5.985729</td>\n",
       "      <td>-5.985729</td>\n",
       "      <td>0.0</td>\n",
       "      <td>0.0</td>\n",
       "      <td>0.0</td>\n",
       "      <td>225.121413</td>\n",
       "    </tr>\n",
       "    <tr>\n",
       "      <th>1723</th>\n",
       "      <td>1723</td>\n",
       "      <td>2019-04-03</td>\n",
       "      <td>358.361024</td>\n",
       "      <td>326.600106</td>\n",
       "      <td>376.899579</td>\n",
       "      <td>358.361024</td>\n",
       "      <td>358.361024</td>\n",
       "      <td>-5.341111</td>\n",
       "      <td>-5.341111</td>\n",
       "      <td>-5.341111</td>\n",
       "      <td>...</td>\n",
       "      <td>-1.516241</td>\n",
       "      <td>-1.516241</td>\n",
       "      <td>-1.516241</td>\n",
       "      <td>-5.049367</td>\n",
       "      <td>-5.049367</td>\n",
       "      <td>-5.049367</td>\n",
       "      <td>0.0</td>\n",
       "      <td>0.0</td>\n",
       "      <td>0.0</td>\n",
       "      <td>353.019913</td>\n",
       "    </tr>\n",
       "    <tr>\n",
       "      <th>2152</th>\n",
       "      <td>2152</td>\n",
       "      <td>2020-12-29</td>\n",
       "      <td>331.354105</td>\n",
       "      <td>304.891169</td>\n",
       "      <td>353.978293</td>\n",
       "      <td>331.354105</td>\n",
       "      <td>331.354105</td>\n",
       "      <td>-1.984000</td>\n",
       "      <td>-1.984000</td>\n",
       "      <td>-1.984000</td>\n",
       "      <td>...</td>\n",
       "      <td>-1.299414</td>\n",
       "      <td>-1.299414</td>\n",
       "      <td>-1.299414</td>\n",
       "      <td>-1.909083</td>\n",
       "      <td>-1.909083</td>\n",
       "      <td>-1.909083</td>\n",
       "      <td>0.0</td>\n",
       "      <td>0.0</td>\n",
       "      <td>0.0</td>\n",
       "      <td>329.370105</td>\n",
       "    </tr>\n",
       "  </tbody>\n",
       "</table>\n",
       "<p>3 rows × 23 columns</p>\n",
       "</div>"
      ],
      "text/plain": [
       "      Unnamed: 0          ds       trend  yhat_lower  yhat_upper  trend_lower  \\\n",
       "980          980  2016-03-30  231.398886  198.924233  251.840120   231.398886   \n",
       "1723        1723  2019-04-03  358.361024  326.600106  376.899579   358.361024   \n",
       "2152        2152  2020-12-29  331.354105  304.891169  353.978293   331.354105   \n",
       "\n",
       "      trend_upper  additive_terms  additive_terms_lower  additive_terms_upper  \\\n",
       "980    231.398886       -6.277473             -6.277473             -6.277473   \n",
       "1723   358.361024       -5.341111             -5.341111             -5.341111   \n",
       "2152   331.354105       -1.984000             -1.984000             -1.984000   \n",
       "\n",
       "      ...    weekly  weekly_lower  weekly_upper    yearly  yearly_lower  \\\n",
       "980   ... -1.516241     -1.516241     -1.516241 -5.985729     -5.985729   \n",
       "1723  ... -1.516241     -1.516241     -1.516241 -5.049367     -5.049367   \n",
       "2152  ... -1.299414     -1.299414     -1.299414 -1.909083     -1.909083   \n",
       "\n",
       "      yearly_upper  multiplicative_terms  multiplicative_terms_lower  \\\n",
       "980      -5.985729                   0.0                         0.0   \n",
       "1723     -5.049367                   0.0                         0.0   \n",
       "2152     -1.909083                   0.0                         0.0   \n",
       "\n",
       "      multiplicative_terms_upper        yhat  \n",
       "980                          0.0  225.121413  \n",
       "1723                         0.0  353.019913  \n",
       "2152                         0.0  329.370105  \n",
       "\n",
       "[3 rows x 23 columns]"
      ]
     },
     "execution_count": 3,
     "metadata": {},
     "output_type": "execute_result"
    }
   ],
   "source": [
    "proph_data = pd.read_csv('FBProphet_predictions_forecast.csv')\n",
    "proph_data.sample(3)"
   ]
  },
  {
   "cell_type": "code",
   "execution_count": 4,
   "id": "84010b96",
   "metadata": {},
   "outputs": [
    {
     "data": {
      "text/html": [
       "<div>\n",
       "<style scoped>\n",
       "    .dataframe tbody tr th:only-of-type {\n",
       "        vertical-align: middle;\n",
       "    }\n",
       "\n",
       "    .dataframe tbody tr th {\n",
       "        vertical-align: top;\n",
       "    }\n",
       "\n",
       "    .dataframe thead th {\n",
       "        text-align: right;\n",
       "    }\n",
       "</style>\n",
       "<table border=\"1\" class=\"dataframe\">\n",
       "  <thead>\n",
       "    <tr style=\"text-align: right;\">\n",
       "      <th></th>\n",
       "      <th>Date</th>\n",
       "      <th>lower</th>\n",
       "      <th>upper</th>\n",
       "      <th>pred</th>\n",
       "    </tr>\n",
       "  </thead>\n",
       "  <tbody>\n",
       "    <tr>\n",
       "      <th>24</th>\n",
       "      <td>2022-04-25</td>\n",
       "      <td>334.455770</td>\n",
       "      <td>382.644677</td>\n",
       "      <td>358.550224</td>\n",
       "    </tr>\n",
       "    <tr>\n",
       "      <th>0</th>\n",
       "      <td>2022-04-01</td>\n",
       "      <td>353.753659</td>\n",
       "      <td>363.101857</td>\n",
       "      <td>358.427758</td>\n",
       "    </tr>\n",
       "    <tr>\n",
       "      <th>1</th>\n",
       "      <td>2022-04-02</td>\n",
       "      <td>352.123832</td>\n",
       "      <td>365.658872</td>\n",
       "      <td>358.891352</td>\n",
       "    </tr>\n",
       "  </tbody>\n",
       "</table>\n",
       "</div>"
      ],
      "text/plain": [
       "          Date       lower       upper        pred\n",
       "24  2022-04-25  334.455770  382.644677  358.550224\n",
       "0   2022-04-01  353.753659  363.101857  358.427758\n",
       "1   2022-04-02  352.123832  365.658872  358.891352"
      ]
     },
     "execution_count": 4,
     "metadata": {},
     "output_type": "execute_result"
    }
   ],
   "source": [
    "arima_forecast = pd.read_csv('Forecast_ARIMA.csv')\n",
    "arima_forecast.sample(3)"
   ]
  },
  {
   "cell_type": "code",
   "execution_count": 5,
   "id": "52de8616",
   "metadata": {},
   "outputs": [
    {
     "data": {
      "text/html": [
       "<div>\n",
       "<style scoped>\n",
       "    .dataframe tbody tr th:only-of-type {\n",
       "        vertical-align: middle;\n",
       "    }\n",
       "\n",
       "    .dataframe tbody tr th {\n",
       "        vertical-align: top;\n",
       "    }\n",
       "\n",
       "    .dataframe thead th {\n",
       "        text-align: right;\n",
       "    }\n",
       "</style>\n",
       "<table border=\"1\" class=\"dataframe\">\n",
       "  <thead>\n",
       "    <tr style=\"text-align: right;\">\n",
       "      <th></th>\n",
       "      <th>Date</th>\n",
       "      <th>pred</th>\n",
       "      <th>lower</th>\n",
       "      <th>upper</th>\n",
       "    </tr>\n",
       "  </thead>\n",
       "  <tbody>\n",
       "    <tr>\n",
       "      <th>618</th>\n",
       "      <td>2022-01-21</td>\n",
       "      <td>444.352642</td>\n",
       "      <td>299.108447</td>\n",
       "      <td>589.596837</td>\n",
       "    </tr>\n",
       "    <tr>\n",
       "      <th>633</th>\n",
       "      <td>2022-02-14</td>\n",
       "      <td>447.427053</td>\n",
       "      <td>299.946717</td>\n",
       "      <td>594.907390</td>\n",
       "    </tr>\n",
       "    <tr>\n",
       "      <th>52</th>\n",
       "      <td>2018-10-01</td>\n",
       "      <td>364.173358</td>\n",
       "      <td>328.049234</td>\n",
       "      <td>400.297481</td>\n",
       "    </tr>\n",
       "  </tbody>\n",
       "</table>\n",
       "</div>"
      ],
      "text/plain": [
       "           Date        pred       lower       upper\n",
       "618  2022-01-21  444.352642  299.108447  589.596837\n",
       "633  2022-02-14  447.427053  299.946717  594.907390\n",
       "52   2018-10-01  364.173358  328.049234  400.297481"
      ]
     },
     "execution_count": 5,
     "metadata": {},
     "output_type": "execute_result"
    }
   ],
   "source": [
    "arima_pred = pd.read_csv('Predicted_ARIMA.csv')\n",
    "arima_pred.sample(3)"
   ]
  },
  {
   "cell_type": "code",
   "execution_count": 6,
   "id": "96e27c9e",
   "metadata": {},
   "outputs": [],
   "source": [
    "lstm_pred = pd.read_csv('lstm_predicted_test.csv')"
   ]
  },
  {
   "cell_type": "code",
   "execution_count": 55,
   "id": "d4f00e6e",
   "metadata": {},
   "outputs": [],
   "source": [
    "lstm_forecast = pd.read_csv('lstm_forecast.csv')"
   ]
  },
  {
   "cell_type": "code",
   "execution_count": 43,
   "id": "e0745395",
   "metadata": {},
   "outputs": [],
   "source": [
    "df = data.copy()"
   ]
  },
  {
   "cell_type": "code",
   "execution_count": 44,
   "id": "35c2141a",
   "metadata": {},
   "outputs": [],
   "source": [
    "df.rename(columns = {'Weighted_price':'Actual'}, inplace = True)"
   ]
  },
  {
   "cell_type": "code",
   "execution_count": 10,
   "id": "5ecfefed",
   "metadata": {},
   "outputs": [
    {
     "name": "stdout",
     "output_type": "stream",
     "text": [
      "Number of test samples in Arima is 664\n",
      "Number of test samples in LSTM is 708\n"
     ]
    }
   ],
   "source": [
    "print('Number of test samples in Arima is', arima_pred.shape[0])\n",
    "print('Number of test samples in LSTM is', lstm_pred.shape[0])"
   ]
  },
  {
   "cell_type": "markdown",
   "id": "6a135375",
   "metadata": {},
   "source": [
    "### ARIMA\n",
    "\n",
    "Here we can observe that the Predictions and Actuals are close with an RMSE of Rs. 36. We can also observe that the actual values are well within the 95% CI values"
   ]
  },
  {
   "cell_type": "code",
   "execution_count": 11,
   "id": "586447af",
   "metadata": {},
   "outputs": [],
   "source": [
    "arima_pred.rename(columns = {'pred':'ARIMA','lower':'ARIMA_lower','upper':'ARIMA_upper'}, inplace = True)"
   ]
  },
  {
   "cell_type": "code",
   "execution_count": 12,
   "id": "533110f8",
   "metadata": {},
   "outputs": [],
   "source": [
    "arima_pred['Date'] = pd.to_datetime(arima_pred['Date'])"
   ]
  },
  {
   "cell_type": "code",
   "execution_count": 13,
   "id": "f31df493",
   "metadata": {},
   "outputs": [],
   "source": [
    "arima_pred = pd.merge(arima_pred,df,on='Date',how='left')"
   ]
  },
  {
   "cell_type": "code",
   "execution_count": 14,
   "id": "58c0663e",
   "metadata": {},
   "outputs": [
    {
     "data": {
      "text/plain": [
       "<AxesSubplot:xlabel='Date'>"
      ]
     },
     "execution_count": 14,
     "metadata": {},
     "output_type": "execute_result"
    },
    {
     "data": {
      "image/png": "[encoded data removed]",
      "text/plain": [
       "<Figure size 432x288 with 1 Axes>"
      ]
     },
     "metadata": {
      "needs_background": "light"
     },
     "output_type": "display_data"
    }
   ],
   "source": [
    "arima_pred.set_index('Date').plot()"
   ]
  },
  {
   "cell_type": "markdown",
   "id": "df913535",
   "metadata": {},
   "source": [
    "### LSTM\n",
    "\n",
    "LSTM predictions are almost in line with our actual figures which shows us a very good accuracy but also caution should be practiced as this data could have overfit our model. The RMSE is only Rs.4"
   ]
  },
  {
   "cell_type": "code",
   "execution_count": 15,
   "id": "2103bc70",
   "metadata": {},
   "outputs": [],
   "source": [
    "lstm_pred = lstm_pred.drop(lstm_pred.columns[0],axis=1)"
   ]
  },
  {
   "cell_type": "code",
   "execution_count": 16,
   "id": "382a7511",
   "metadata": {},
   "outputs": [],
   "source": [
    "lstm_pred['Test Values']=lstm_pred['Test Values'].str.strip('[]').astype('float')"
   ]
  },
  {
   "cell_type": "code",
   "execution_count": 17,
   "id": "68287849",
   "metadata": {},
   "outputs": [],
   "source": [
    "lstm_pred['Date'] = data.filter(items = range((data.shape[0]-lstm_pred.shape[0]-1),data.shape[0]-1),axis=0).reset_index()['Date']"
   ]
  },
  {
   "cell_type": "code",
   "execution_count": 18,
   "id": "4cc43956",
   "metadata": {},
   "outputs": [],
   "source": [
    "lstm_pred['Actual'] = data.filter(items = range((data.shape[0]-lstm_pred.shape[0]-1),data.shape[0]-1),axis=0).reset_index()['Weighted_price']"
   ]
  },
  {
   "cell_type": "code",
   "execution_count": 19,
   "id": "3b7185a3",
   "metadata": {
    "scrolled": true
   },
   "outputs": [
    {
     "data": {
      "text/plain": [
       "<AxesSubplot:xlabel='Date'>"
      ]
     },
     "execution_count": 19,
     "metadata": {},
     "output_type": "execute_result"
    },
    {
     "data": {
      "image/png": "[encoded data removed]",
      "text/plain": [
       "<Figure size 432x288 with 1 Axes>"
      ]
     },
     "metadata": {
      "needs_background": "light"
     },
     "output_type": "display_data"
    }
   ],
   "source": [
    "lstm_pred.set_index('Date').plot()"
   ]
  },
  {
   "cell_type": "markdown",
   "id": "8f044238",
   "metadata": {},
   "source": [
    "### Prophet\n",
    "\n",
    "Overall, Prophet model has been satisfactory because although it has more RMSE than LSTM. It considers seasonality effects in multiple facets i.e. Yearly, Monthly, Weekly. This is good as we know that stock prices will never give us a random walk or stationary time series."
   ]
  },
  {
   "cell_type": "code",
   "execution_count": 20,
   "id": "1d817fa2",
   "metadata": {},
   "outputs": [],
   "source": [
    "proph_data.rename(columns = {'ds':'Date'}, inplace = True)\n",
    "proph_data = proph_data.drop(proph_data.columns[0],axis=1)\n",
    "proph_data['Date'] = pd.to_datetime(proph_data['Date'])"
   ]
  },
  {
   "cell_type": "code",
   "execution_count": 21,
   "id": "9c57d77e",
   "metadata": {},
   "outputs": [],
   "source": [
    "proph_test_data = data.copy()"
   ]
  },
  {
   "cell_type": "code",
   "execution_count": 22,
   "id": "f11acb51",
   "metadata": {},
   "outputs": [],
   "source": [
    "proph_test_data.rename(columns = {'Weighted_price':'Actual'}, inplace = True)"
   ]
  },
  {
   "cell_type": "code",
   "execution_count": 23,
   "id": "10e7ce2b",
   "metadata": {},
   "outputs": [
    {
     "data": {
      "text/plain": [
       "Index(['Date', 'trend', 'yhat_lower', 'yhat_upper', 'trend_lower',\n",
       "       'trend_upper', 'additive_terms', 'additive_terms_lower',\n",
       "       'additive_terms_upper', 'daily', 'daily_lower', 'daily_upper', 'weekly',\n",
       "       'weekly_lower', 'weekly_upper', 'yearly', 'yearly_lower',\n",
       "       'yearly_upper', 'multiplicative_terms', 'multiplicative_terms_lower',\n",
       "       'multiplicative_terms_upper', 'yhat'],\n",
       "      dtype='object')"
      ]
     },
     "execution_count": 23,
     "metadata": {},
     "output_type": "execute_result"
    }
   ],
   "source": [
    "proph_data.columns"
   ]
  },
  {
   "cell_type": "code",
   "execution_count": 24,
   "id": "b2bd0ac0",
   "metadata": {},
   "outputs": [],
   "source": [
    "proph_test_data = pd.merge(proph_test_data,proph_data[['Date','yhat_lower','yhat_upper','yhat']],\n",
    "                           on='Date',how='left')"
   ]
  },
  {
   "cell_type": "code",
   "execution_count": 25,
   "id": "33ffea6d",
   "metadata": {},
   "outputs": [
    {
     "data": {
      "text/plain": [
       "<AxesSubplot:xlabel='Date'>"
      ]
     },
     "execution_count": 25,
     "metadata": {},
     "output_type": "execute_result"
    },
    {
     "data": {
      "image/png": "[encoded data removed]",
      "text/plain": [
       "<Figure size 432x288 with 1 Axes>"
      ]
     },
     "metadata": {
      "needs_background": "light"
     },
     "output_type": "display_data"
    }
   ],
   "source": [
    "proph_test_data.set_index('Date').plot()"
   ]
  },
  {
   "cell_type": "markdown",
   "id": "517ceb31",
   "metadata": {},
   "source": [
    "### Comparison"
   ]
  },
  {
   "cell_type": "code",
   "execution_count": 26,
   "id": "75339f28",
   "metadata": {},
   "outputs": [],
   "source": [
    "arima_test_mse = sqrt(mse(arima_pred['Actual'],arima_pred['ARIMA']))\n",
    "lstm_test_mse = sqrt(mse(lstm_pred['Actual'],lstm_pred['Test Values']))\n",
    "proph_test_mse = sqrt(mse(proph_test_data['Actual'],proph_test_data['yhat']))"
   ]
  },
  {
   "cell_type": "code",
   "execution_count": 27,
   "id": "ec0ad54e",
   "metadata": {},
   "outputs": [
    {
     "name": "stdout",
     "output_type": "stream",
     "text": [
      "Method          RMSE\n",
      "----------  --------\n",
      "ARIMA       36.883\n",
      "LSTM         4.78004\n",
      "FB Prophet  13.0549\n"
     ]
    }
   ],
   "source": [
    "table = [['Method','RMSE'],['ARIMA',arima_test_mse],['LSTM',lstm_test_mse],['FB Prophet',proph_test_mse]]\n",
    "print(tabulate(table,headers='firstrow'))"
   ]
  },
  {
   "cell_type": "code",
   "execution_count": 45,
   "id": "3c7ef276",
   "metadata": {},
   "outputs": [],
   "source": [
    "temp = pd.DataFrame()\n",
    "temp['Date'] = pd.date_range(start='31/3/2022', periods=30)\n",
    "temp['Actual'] = 0"
   ]
  },
  {
   "cell_type": "code",
   "execution_count": 46,
   "id": "cb8e9208",
   "metadata": {},
   "outputs": [],
   "source": [
    "df = df.append(temp,ignore_index=True)"
   ]
  },
  {
   "cell_type": "code",
   "execution_count": 47,
   "id": "a0baf56f",
   "metadata": {},
   "outputs": [],
   "source": [
    "arima_forecast.rename(columns = {'pred':'ARIMA','lower':'ARIMA_lower','upper':'ARIMA_upper'}, inplace = True)\n",
    "arima_forecast['Date'] = pd.to_datetime(arima_forecast['Date'])\n",
    "df = pd.merge(df,arima_forecast,on='Date',how='left')"
   ]
  },
  {
   "cell_type": "code",
   "execution_count": 57,
   "id": "9bcac0f4",
   "metadata": {},
   "outputs": [],
   "source": [
    "lstm_forecast = lstm_forecast.drop(lstm_forecast.columns[0],axis=1)"
   ]
  },
  {
   "cell_type": "code",
   "execution_count": 59,
   "id": "49b25e90",
   "metadata": {},
   "outputs": [],
   "source": [
    "lstm_forecast['Prices']=lstm_forecast['Prices'].str.strip('[]').astype('float')"
   ]
  },
  {
   "cell_type": "code",
   "execution_count": 61,
   "id": "97dadca5",
   "metadata": {},
   "outputs": [],
   "source": [
    "lstm_forecast = lstm_forecast.filter(items=range(2493-30,2493),axis=0)"
   ]
  },
  {
   "cell_type": "code",
   "execution_count": 62,
   "id": "91d963a6",
   "metadata": {},
   "outputs": [],
   "source": [
    "lstm_forecast.rename(columns={'Prices':'LSTM'},inplace=True)"
   ]
  },
  {
   "cell_type": "code",
   "execution_count": 63,
   "id": "86ed51d5",
   "metadata": {},
   "outputs": [],
   "source": [
    "df = df.join(lstm_forecast)"
   ]
  },
  {
   "cell_type": "code",
   "execution_count": 65,
   "id": "c827092a",
   "metadata": {},
   "outputs": [],
   "source": [
    "proph_forecast = proph_data[['yhat_upper','yhat_lower','yhat']]\n",
    "proph_forecast = proph_forecast.filter(items=range(2493-30,2493),axis=0)"
   ]
  },
  {
   "cell_type": "code",
   "execution_count": 66,
   "id": "733e5f65",
   "metadata": {},
   "outputs": [],
   "source": [
    "proph_forecast.rename(columns={'yhat':'Prophet','yhat_upper':'Prophet_upper','yhat_lower':'Prophet_lower'},inplace=True)"
   ]
  },
  {
   "cell_type": "code",
   "execution_count": 67,
   "id": "4b6a889a",
   "metadata": {},
   "outputs": [],
   "source": [
    "df = df.join(proph_forecast)"
   ]
  },
  {
   "cell_type": "code",
   "execution_count": 68,
   "id": "ea340f0b",
   "metadata": {},
   "outputs": [],
   "source": [
    "actuals = pd.read_pickle('Actuals_april_22.pkl')"
   ]
  },
  {
   "cell_type": "code",
   "execution_count": 69,
   "id": "0b4083a2",
   "metadata": {},
   "outputs": [],
   "source": [
    "df.Actual.to_numpy()[-30:]= actuals['Weighted_price']"
   ]
  },
  {
   "cell_type": "code",
   "execution_count": 71,
   "id": "a4cdb323",
   "metadata": {},
   "outputs": [
    {
     "data": {
      "text/plain": [
       "<AxesSubplot:xlabel='Date'>"
      ]
     },
     "execution_count": 71,
     "metadata": {},
     "output_type": "execute_result"
    },
    {
     "data": {
      "image/png": "[encoded data removed]",
      "text/plain": [
       "<Figure size 432x288 with 1 Axes>"
      ]
     },
     "metadata": {
      "needs_background": "light"
     },
     "output_type": "display_data"
    }
   ],
   "source": [
    "df[['Date','Actual','ARIMA','LSTM','Prophet']].filter(items=range(2493-30,2493),axis=0).set_index('Date').plot()"
   ]
  },
  {
   "cell_type": "markdown",
   "id": "106a114a",
   "metadata": {},
   "source": [
    "So here we can see that in the forecasted data that LSTM's have the best predictions. ARIMA and Prophet are similar, however Prophets captures some of the daily ups and downs and doesnt have a smoothened line"
   ]
  },
  {
   "cell_type": "code",
   "execution_count": 72,
   "id": "63a3c0dc",
   "metadata": {},
   "outputs": [
    {
     "data": {
      "text/plain": [
       "<AxesSubplot:xlabel='Date'>"
      ]
     },
     "execution_count": 72,
     "metadata": {},
     "output_type": "execute_result"
    },
    {
     "data": {
      "image/png": "[encoded data removed]",
      "text/plain": [
       "<Figure size 432x288 with 1 Axes>"
      ]
     },
     "metadata": {
      "needs_background": "light"
     },
     "output_type": "display_data"
    }
   ],
   "source": [
    "df[['Date','Actual','ARIMA','LSTM','Prophet']].filter(items=range(2493-200,2493),axis=0).set_index('Date').plot()"
   ]
  },
  {
   "cell_type": "markdown",
   "id": "09830054",
   "metadata": {},
   "source": [
    "On check the last 200 days of the price, we can observe that the Entire Range falls within our predictions of Prophet and ARIMA, which is good indicator\n",
    "\n",
    "Now, we also add rolling mean to the equation as they are popular smoothening techniques."
   ]
  },
  {
   "cell_type": "code",
   "execution_count": 73,
   "id": "e80700c5",
   "metadata": {},
   "outputs": [],
   "source": [
    "df['100_rolling'] = df['Actual'].rolling(100).mean()\n",
    "df['200_rolling'] = df['Actual'].rolling(200).mean()"
   ]
  },
  {
   "cell_type": "code",
   "execution_count": 76,
   "id": "68f6c20a",
   "metadata": {},
   "outputs": [
    {
     "data": {
      "text/plain": [
       "<AxesSubplot:xlabel='Date'>"
      ]
     },
     "execution_count": 76,
     "metadata": {},
     "output_type": "execute_result"
    },
    {
     "data": {
      "image/png": "[encoded data removed]",
      "text/plain": [
       "<Figure size 432x288 with 1 Axes>"
      ]
     },
     "metadata": {
      "needs_background": "light"
     },
     "output_type": "display_data"
    }
   ],
   "source": [
    "df[['Date','Actual','ARIMA','LSTM','Prophet','100_rolling','200_rolling']].filter(items=range(2493-30,2493),axis=0).set_index('Date').plot()"
   ]
  },
  {
   "cell_type": "markdown",
   "id": "b4fdbb49",
   "metadata": {},
   "source": [
    "We still see that LSTM's have emerged victorious thereby concluding that LSTM's are the best univariate predictors in our model."
   ]
  }
 ],
 "metadata": {
  "kernelspec": {
   "display_name": "Python 3 (ipykernel)",
   "language": "python",
   "name": "python3"
  },
  "language_info": {
   "codemirror_mode": {
    "name": "ipython",
    "version": 3
   },
   "file_extension": ".py",
   "mimetype": "text/x-python",
   "name": "python",
   "nbconvert_exporter": "python",
   "pygments_lexer": "ipython3",
   "version": "3.9.7"
  }
 },
 "nbformat": 4,
 "nbformat_minor": 5
}
