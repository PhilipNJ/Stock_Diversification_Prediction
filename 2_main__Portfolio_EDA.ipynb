{
 "cells": [
  {
   "cell_type": "markdown",
   "id": "663aebb6",
   "metadata": {},
   "source": [
    "# Timeseries and Portfolio Index Data Preparation"
   ]
  },
  {
   "cell_type": "markdown",
   "id": "94e41bbe",
   "metadata": {},
   "source": [
    "Selected stocks for portfolio\n",
    "\n",
    "1. IOC\n",
    "2. TCS\n",
    "3. HDFCBANK\n",
    "4. KOTAKBANK\n",
    "5. LT\n",
    "6. ITC"
   ]
  },
  {
   "cell_type": "markdown",
   "id": "dcf1fc62",
   "metadata": {},
   "source": [
    "### Import the Dependencies"
   ]
  },
  {
   "cell_type": "code",
   "execution_count": 1,
   "id": "019f3975",
   "metadata": {},
   "outputs": [],
   "source": [
    "import pandas as pd\n",
    "import plotly.graph_objects as go\n",
    "from tabulate import tabulate\n",
    "import seaborn as sns\n",
    "from datetime import datetime\n",
    "import numpy as np"
   ]
  },
  {
   "cell_type": "markdown",
   "id": "5277e8ca",
   "metadata": {},
   "source": [
    "### Import Master dataset and filter required data"
   ]
  },
  {
   "cell_type": "code",
   "execution_count": 2,
   "id": "db17306f",
   "metadata": {},
   "outputs": [],
   "source": [
    "data_source = pd.read_pickle('Ten_year_data_consolidated.pkl')"
   ]
  },
  {
   "cell_type": "code",
   "execution_count": 3,
   "id": "329a2de2",
   "metadata": {},
   "outputs": [],
   "source": [
    "IOC = data_source.loc(axis=1)[:,'IOC.NS']\n",
    "IOC.columns = IOC.columns.droplevel(1)\n",
    "IOC = IOC.reset_index()"
   ]
  },
  {
   "cell_type": "code",
   "execution_count": 4,
   "id": "2c09f0e9",
   "metadata": {},
   "outputs": [],
   "source": [
    "TCS = data_source.loc(axis=1)[:,'TCS.NS']\n",
    "TCS.columns = TCS.columns.droplevel(1)\n",
    "TCS = TCS.reset_index()"
   ]
  },
  {
   "cell_type": "code",
   "execution_count": 5,
   "id": "b96abcda",
   "metadata": {},
   "outputs": [],
   "source": [
    "HDFCBANK = data_source.loc(axis=1)[:,'HDFCBANK.NS']\n",
    "HDFCBANK.columns = HDFCBANK.columns.droplevel(1)\n",
    "HDFCBANK = HDFCBANK.reset_index()"
   ]
  },
  {
   "cell_type": "code",
   "execution_count": 6,
   "id": "4977aa7f",
   "metadata": {},
   "outputs": [],
   "source": [
    "KOTAKBANK = data_source.loc(axis=1)[:,'KOTAKBANK.NS']\n",
    "KOTAKBANK.columns = KOTAKBANK.columns.droplevel(1)\n",
    "KOTAKBANK = KOTAKBANK.reset_index()"
   ]
  },
  {
   "cell_type": "code",
   "execution_count": 7,
   "id": "72ef8205",
   "metadata": {},
   "outputs": [],
   "source": [
    "LT = data_source.loc(axis=1)[:,'LT.NS']\n",
    "LT.columns = LT.columns.droplevel(1)\n",
    "LT = LT.reset_index()"
   ]
  },
  {
   "cell_type": "code",
   "execution_count": 8,
   "id": "d5a60940",
   "metadata": {},
   "outputs": [],
   "source": [
    "ITC = data_source.loc(axis=1)[:,'ITC.NS']\n",
    "ITC.columns = ITC.columns.droplevel(1)\n",
    "ITC = ITC.reset_index()"
   ]
  },
  {
   "cell_type": "markdown",
   "id": "1ce3f735",
   "metadata": {},
   "source": [
    "Create a new DataFrame on the basis of the close prices of the individual stocks"
   ]
  },
  {
   "cell_type": "code",
   "execution_count": 9,
   "id": "bf4561dc",
   "metadata": {},
   "outputs": [],
   "source": [
    "data_list = ['IOC', 'ITC', 'TCS', 'HDFCBANK', 'KOTAKBANK', 'LT']\n",
    "data_list_tickers = ['IOC.NS', 'ITC.NS', 'TCS.NS', 'HDFCBANK.NS', 'KOTAKBANK.NS', 'LT.NS']"
   ]
  },
  {
   "cell_type": "code",
   "execution_count": 10,
   "id": "58709e0a",
   "metadata": {},
   "outputs": [],
   "source": [
    "Portfolio_data = pd.DataFrame()"
   ]
  },
  {
   "cell_type": "code",
   "execution_count": 11,
   "id": "44cd4e91",
   "metadata": {},
   "outputs": [],
   "source": [
    "Portfolio_data['Date'] = IOC['Date']\n",
    "Portfolio_data['ITC'] = ITC['Close']\n",
    "Portfolio_data['IOC'] = IOC['Close']\n",
    "Portfolio_data['LT'] = LT['Close']\n",
    "Portfolio_data['TCS'] = TCS['Close']\n",
    "Portfolio_data['HDFCBANK'] = HDFCBANK['Close']\n",
    "Portfolio_data['KOTAKBANK'] = KOTAKBANK['Close']"
   ]
  },
  {
   "cell_type": "code",
   "execution_count": 12,
   "id": "70442ee1",
   "metadata": {
    "scrolled": true
   },
   "outputs": [
    {
     "data": {
      "text/html": [
       "<div>\n",
       "<style scoped>\n",
       "    .dataframe tbody tr th:only-of-type {\n",
       "        vertical-align: middle;\n",
       "    }\n",
       "\n",
       "    .dataframe tbody tr th {\n",
       "        vertical-align: top;\n",
       "    }\n",
       "\n",
       "    .dataframe thead th {\n",
       "        text-align: right;\n",
       "    }\n",
       "</style>\n",
       "<table border=\"1\" class=\"dataframe\">\n",
       "  <thead>\n",
       "    <tr style=\"text-align: right;\">\n",
       "      <th></th>\n",
       "      <th>Date</th>\n",
       "      <th>ITC</th>\n",
       "      <th>IOC</th>\n",
       "      <th>LT</th>\n",
       "      <th>TCS</th>\n",
       "      <th>HDFCBANK</th>\n",
       "      <th>KOTAKBANK</th>\n",
       "    </tr>\n",
       "  </thead>\n",
       "  <tbody>\n",
       "    <tr>\n",
       "      <th>0</th>\n",
       "      <td>2012-04-02</td>\n",
       "      <td>151.300003</td>\n",
       "      <td>65.099998</td>\n",
       "      <td>592.200012</td>\n",
       "      <td>597.125000</td>\n",
       "      <td>264.174988</td>\n",
       "      <td>278.000000</td>\n",
       "    </tr>\n",
       "    <tr>\n",
       "      <th>1</th>\n",
       "      <td>2012-04-03</td>\n",
       "      <td>151.399994</td>\n",
       "      <td>66.599998</td>\n",
       "      <td>605.377747</td>\n",
       "      <td>589.000000</td>\n",
       "      <td>265.100006</td>\n",
       "      <td>279.725006</td>\n",
       "    </tr>\n",
       "    <tr>\n",
       "      <th>2</th>\n",
       "      <td>2012-04-04</td>\n",
       "      <td>151.600006</td>\n",
       "      <td>65.712502</td>\n",
       "      <td>597.911133</td>\n",
       "      <td>589.224976</td>\n",
       "      <td>263.274994</td>\n",
       "      <td>275.450012</td>\n",
       "    </tr>\n",
       "    <tr>\n",
       "      <th>3</th>\n",
       "      <td>2012-04-09</td>\n",
       "      <td>149.366669</td>\n",
       "      <td>64.125000</td>\n",
       "      <td>577.044434</td>\n",
       "      <td>582.049988</td>\n",
       "      <td>260.875000</td>\n",
       "      <td>267.000000</td>\n",
       "    </tr>\n",
       "    <tr>\n",
       "      <th>4</th>\n",
       "      <td>2012-04-10</td>\n",
       "      <td>152.899994</td>\n",
       "      <td>62.762501</td>\n",
       "      <td>571.244446</td>\n",
       "      <td>578.099976</td>\n",
       "      <td>262.424988</td>\n",
       "      <td>273.524994</td>\n",
       "    </tr>\n",
       "  </tbody>\n",
       "</table>\n",
       "</div>"
      ],
      "text/plain": [
       "        Date         ITC        IOC          LT         TCS    HDFCBANK  \\\n",
       "0 2012-04-02  151.300003  65.099998  592.200012  597.125000  264.174988   \n",
       "1 2012-04-03  151.399994  66.599998  605.377747  589.000000  265.100006   \n",
       "2 2012-04-04  151.600006  65.712502  597.911133  589.224976  263.274994   \n",
       "3 2012-04-09  149.366669  64.125000  577.044434  582.049988  260.875000   \n",
       "4 2012-04-10  152.899994  62.762501  571.244446  578.099976  262.424988   \n",
       "\n",
       "    KOTAKBANK  \n",
       "0  278.000000  \n",
       "1  279.725006  \n",
       "2  275.450012  \n",
       "3  267.000000  \n",
       "4  273.524994  "
      ]
     },
     "execution_count": 12,
     "metadata": {},
     "output_type": "execute_result"
    }
   ],
   "source": [
    "Portfolio_data.head()"
   ]
  },
  {
   "cell_type": "markdown",
   "id": "b39e6a5a",
   "metadata": {},
   "source": [
    "### Weightage of each stock\n",
    "\n",
    "Now that our stocks have been selected we go ahead and derive the weightage each stock needs to have in our portfolio.\n",
    "\n",
    "We have aimed to spread the risk equally among all stocks on the basis of their close price on the last day i.e. March 30th 2022.\n",
    "\n",
    "1. Create a Df with the prices on March 30, 2022\n",
    "2. Assume we are buying Rs. 10,000 worth of each stock\n",
    "3. Find the number of stocks worth 10,100 for each company\n",
    "4. Find the percentage of each number of units with respect to total number of stocks bought."
   ]
  },
  {
   "cell_type": "code",
   "execution_count": 13,
   "id": "efd97582",
   "metadata": {},
   "outputs": [],
   "source": [
    "#extract last row i.e. latest price as per our data\n",
    "Weights = Portfolio_data.tail(1)\n",
    "#create new df with stock and corresponding latest prices\n",
    "Weights = Weights.drop('Date', axis =1)\n",
    "Weights = Weights.reset_index()\n",
    "Weights = Weights.drop('index', axis = 1)\n",
    "Weights = Weights.T\n",
    "Weights = Weights.reset_index()\n",
    "Weights = Weights.rename(columns={'index': 'Stocks', 0 : 'Prices'})"
   ]
  },
  {
   "cell_type": "code",
   "execution_count": 14,
   "id": "4e570e1e",
   "metadata": {},
   "outputs": [],
   "source": [
    "#considering we bought 10,000rs worth of each stock, we calculate number of units required\n",
    "Weights['Units'] = 10000 / Weights['Prices'] "
   ]
  },
  {
   "cell_type": "code",
   "execution_count": 15,
   "id": "d76b023c",
   "metadata": {},
   "outputs": [],
   "source": [
    "#based on percentage of units we calculate weights\n",
    "Weights['Weights'] = Weights['Units']/ sum(Weights['Units'])"
   ]
  },
  {
   "cell_type": "code",
   "execution_count": 16,
   "id": "e1e14c1b",
   "metadata": {},
   "outputs": [],
   "source": [
    "#setting the company name as index to make it easier to call\n",
    "Weights = Weights.set_index('Stocks')"
   ]
  },
  {
   "cell_type": "code",
   "execution_count": 17,
   "id": "b1575aec",
   "metadata": {},
   "outputs": [
    {
     "data": {
      "text/plain": [
       "0.2744511984103582"
      ]
     },
     "execution_count": 17,
     "metadata": {},
     "output_type": "execute_result"
    }
   ],
   "source": [
    "Weights.at['ITC', 'Weights']"
   ]
  },
  {
   "cell_type": "code",
   "execution_count": 18,
   "id": "21e09f35",
   "metadata": {},
   "outputs": [
    {
     "data": {
      "text/html": [
       "<div>\n",
       "<style scoped>\n",
       "    .dataframe tbody tr th:only-of-type {\n",
       "        vertical-align: middle;\n",
       "    }\n",
       "\n",
       "    .dataframe tbody tr th {\n",
       "        vertical-align: top;\n",
       "    }\n",
       "\n",
       "    .dataframe thead th {\n",
       "        text-align: right;\n",
       "    }\n",
       "</style>\n",
       "<table border=\"1\" class=\"dataframe\">\n",
       "  <thead>\n",
       "    <tr style=\"text-align: right;\">\n",
       "      <th></th>\n",
       "      <th>Prices</th>\n",
       "      <th>Units</th>\n",
       "      <th>Weights</th>\n",
       "    </tr>\n",
       "    <tr>\n",
       "      <th>Stocks</th>\n",
       "      <th></th>\n",
       "      <th></th>\n",
       "      <th></th>\n",
       "    </tr>\n",
       "  </thead>\n",
       "  <tbody>\n",
       "    <tr>\n",
       "      <th>ITC</th>\n",
       "      <td>249.199997</td>\n",
       "      <td>40.128411</td>\n",
       "      <td>0.274451</td>\n",
       "    </tr>\n",
       "    <tr>\n",
       "      <th>IOC</th>\n",
       "      <td>117.199997</td>\n",
       "      <td>85.324234</td>\n",
       "      <td>0.583560</td>\n",
       "    </tr>\n",
       "    <tr>\n",
       "      <th>LT</th>\n",
       "      <td>1773.599976</td>\n",
       "      <td>5.638250</td>\n",
       "      <td>0.038562</td>\n",
       "    </tr>\n",
       "    <tr>\n",
       "      <th>TCS</th>\n",
       "      <td>3731.550049</td>\n",
       "      <td>2.679852</td>\n",
       "      <td>0.018328</td>\n",
       "    </tr>\n",
       "    <tr>\n",
       "      <th>HDFCBANK</th>\n",
       "      <td>1476.949951</td>\n",
       "      <td>6.770710</td>\n",
       "      <td>0.046307</td>\n",
       "    </tr>\n",
       "    <tr>\n",
       "      <th>KOTAKBANK</th>\n",
       "      <td>1763.099976</td>\n",
       "      <td>5.671828</td>\n",
       "      <td>0.038791</td>\n",
       "    </tr>\n",
       "  </tbody>\n",
       "</table>\n",
       "</div>"
      ],
      "text/plain": [
       "                Prices      Units   Weights\n",
       "Stocks                                     \n",
       "ITC         249.199997  40.128411  0.274451\n",
       "IOC         117.199997  85.324234  0.583560\n",
       "LT         1773.599976   5.638250  0.038562\n",
       "TCS        3731.550049   2.679852  0.018328\n",
       "HDFCBANK   1476.949951   6.770710  0.046307\n",
       "KOTAKBANK  1763.099976   5.671828  0.038791"
      ]
     },
     "execution_count": 18,
     "metadata": {},
     "output_type": "execute_result"
    }
   ],
   "source": [
    "Weights"
   ]
  },
  {
   "cell_type": "markdown",
   "id": "edc404c8",
   "metadata": {},
   "source": [
    "### Creating the Index\n",
    "\n",
    "We then multiply the individual stock price with the corresponding weights and sum them up to get the Portfolio's Index prices."
   ]
  },
  {
   "cell_type": "code",
   "execution_count": 19,
   "id": "78228b3c",
   "metadata": {},
   "outputs": [],
   "source": [
    "Portfolio_data['Weighted_price'] = (Portfolio_data['ITC']*Weights.at['ITC', 'Weights'])+(Portfolio_data['IOC']*Weights.at['IOC', 'Weights'])+(Portfolio_data['LT']*Weights.at['LT', 'Weights'])+(Portfolio_data['HDFCBANK']*Weights.at['HDFCBANK', 'Weights'])+(Portfolio_data['TCS']*Weights.at['TCS', 'Weights'])+(Portfolio_data['KOTAKBANK']*Weights.at['KOTAKBANK', 'Weights'])"
   ]
  },
  {
   "cell_type": "code",
   "execution_count": 20,
   "id": "66f4b13c",
   "metadata": {},
   "outputs": [
    {
     "data": {
      "text/html": [
       "<div>\n",
       "<style scoped>\n",
       "    .dataframe tbody tr th:only-of-type {\n",
       "        vertical-align: middle;\n",
       "    }\n",
       "\n",
       "    .dataframe tbody tr th {\n",
       "        vertical-align: top;\n",
       "    }\n",
       "\n",
       "    .dataframe thead th {\n",
       "        text-align: right;\n",
       "    }\n",
       "</style>\n",
       "<table border=\"1\" class=\"dataframe\">\n",
       "  <thead>\n",
       "    <tr style=\"text-align: right;\">\n",
       "      <th></th>\n",
       "      <th>Date</th>\n",
       "      <th>ITC</th>\n",
       "      <th>IOC</th>\n",
       "      <th>LT</th>\n",
       "      <th>TCS</th>\n",
       "      <th>HDFCBANK</th>\n",
       "      <th>KOTAKBANK</th>\n",
       "      <th>Weighted_price</th>\n",
       "    </tr>\n",
       "  </thead>\n",
       "  <tbody>\n",
       "    <tr>\n",
       "      <th>0</th>\n",
       "      <td>2012-04-02</td>\n",
       "      <td>151.300003</td>\n",
       "      <td>65.099998</td>\n",
       "      <td>592.200012</td>\n",
       "      <td>597.125000</td>\n",
       "      <td>264.174988</td>\n",
       "      <td>278.000000</td>\n",
       "      <td>136.312065</td>\n",
       "    </tr>\n",
       "    <tr>\n",
       "      <th>1</th>\n",
       "      <td>2012-04-03</td>\n",
       "      <td>151.399994</td>\n",
       "      <td>66.599998</td>\n",
       "      <td>605.377747</td>\n",
       "      <td>589.000000</td>\n",
       "      <td>265.100006</td>\n",
       "      <td>279.725006</td>\n",
       "      <td>137.683837</td>\n",
       "    </tr>\n",
       "    <tr>\n",
       "      <th>2</th>\n",
       "      <td>2012-04-04</td>\n",
       "      <td>151.600006</td>\n",
       "      <td>65.712502</td>\n",
       "      <td>597.911133</td>\n",
       "      <td>589.224976</td>\n",
       "      <td>263.274994</td>\n",
       "      <td>275.450012</td>\n",
       "      <td>136.686676</td>\n",
       "    </tr>\n",
       "    <tr>\n",
       "      <th>3</th>\n",
       "      <td>2012-04-09</td>\n",
       "      <td>149.366669</td>\n",
       "      <td>64.125000</td>\n",
       "      <td>577.044434</td>\n",
       "      <td>582.049988</td>\n",
       "      <td>260.875000</td>\n",
       "      <td>267.000000</td>\n",
       "      <td>133.772242</td>\n",
       "    </tr>\n",
       "    <tr>\n",
       "      <th>4</th>\n",
       "      <td>2012-04-10</td>\n",
       "      <td>152.899994</td>\n",
       "      <td>62.762501</td>\n",
       "      <td>571.244446</td>\n",
       "      <td>578.099976</td>\n",
       "      <td>262.424988</td>\n",
       "      <td>273.524994</td>\n",
       "      <td>133.975702</td>\n",
       "    </tr>\n",
       "  </tbody>\n",
       "</table>\n",
       "</div>"
      ],
      "text/plain": [
       "        Date         ITC        IOC          LT         TCS    HDFCBANK  \\\n",
       "0 2012-04-02  151.300003  65.099998  592.200012  597.125000  264.174988   \n",
       "1 2012-04-03  151.399994  66.599998  605.377747  589.000000  265.100006   \n",
       "2 2012-04-04  151.600006  65.712502  597.911133  589.224976  263.274994   \n",
       "3 2012-04-09  149.366669  64.125000  577.044434  582.049988  260.875000   \n",
       "4 2012-04-10  152.899994  62.762501  571.244446  578.099976  262.424988   \n",
       "\n",
       "    KOTAKBANK  Weighted_price  \n",
       "0  278.000000      136.312065  \n",
       "1  279.725006      137.683837  \n",
       "2  275.450012      136.686676  \n",
       "3  267.000000      133.772242  \n",
       "4  273.524994      133.975702  "
      ]
     },
     "execution_count": 20,
     "metadata": {},
     "output_type": "execute_result"
    }
   ],
   "source": [
    "Portfolio_data.head()"
   ]
  },
  {
   "cell_type": "markdown",
   "id": "15b032e5",
   "metadata": {},
   "source": [
    "### 10 year returns of Portfolio\n",
    "\n",
    "We go ahead and calculate the total returns we would have recieved if we chose to invest in these stocks at this weightage 10 years ago, i.e. April 1st 2012."
   ]
  },
  {
   "cell_type": "code",
   "execution_count": 29,
   "id": "5465f5d1",
   "metadata": {},
   "outputs": [],
   "source": [
    "First_price = Portfolio_data.iloc[0, Portfolio_data.columns.get_loc('Weighted_price')]"
   ]
  },
  {
   "cell_type": "code",
   "execution_count": 30,
   "id": "35c42f6f",
   "metadata": {},
   "outputs": [],
   "source": [
    "Last_price = Portfolio_data.iloc[2462, Portfolio_data.columns.get_loc('Weighted_price')]"
   ]
  },
  {
   "cell_type": "code",
   "execution_count": 31,
   "id": "de9e657b",
   "metadata": {},
   "outputs": [],
   "source": [
    "Portfolio_returns = (Last_price-First_price)/First_price"
   ]
  },
  {
   "cell_type": "code",
   "execution_count": 32,
   "id": "d149965d",
   "metadata": {},
   "outputs": [
    {
     "data": {
      "text/plain": [
       "2.010440992414696"
      ]
     },
     "execution_count": 32,
     "metadata": {},
     "output_type": "execute_result"
    }
   ],
   "source": [
    "Portfolio_returns"
   ]
  },
  {
   "cell_type": "markdown",
   "id": "5367be39",
   "metadata": {},
   "source": [
    "We perform to small excercise to check how many units would need to be purchased given a total portflio value:"
   ]
  },
  {
   "cell_type": "code",
   "execution_count": 33,
   "id": "bd03adbf",
   "metadata": {},
   "outputs": [
    {
     "name": "stdout",
     "output_type": "stream",
     "text": [
      "Amount to be invested: \n",
      "100000\n",
      "Number of shares to be purchased per stock is:\n",
      "╒════════════╤═════════╕\n",
      "│ Stock      │   Units │\n",
      "╞════════════╪═════════╡\n",
      "│ ITC        │     110 │\n",
      "├────────────┼─────────┤\n",
      "│ IOC        │     497 │\n",
      "├────────────┼─────────┤\n",
      "│ LT         │       2 │\n",
      "├────────────┼─────────┤\n",
      "│ TCS        │       0 │\n",
      "├────────────┼─────────┤\n",
      "│ HDFCBANK   │       3 │\n",
      "├────────────┼─────────┤\n",
      "│ KOTACKBANK │       2 │\n",
      "╘════════════╧═════════╛\n"
     ]
    }
   ],
   "source": [
    "print(\"Amount to be invested: \")\n",
    "Amt_investment = int(input()) \n",
    "\n",
    "while Amt_investment < sum(Weights['Prices']):\n",
    "    print(\"Please input number greater than\", np.ceil(sum(Weights['Prices'])))\n",
    "    Amt_investment = int(input())\n",
    "\n",
    "\n",
    "ITC_amount = Amt_investment*Weights.at['ITC', 'Weights']\n",
    "IOC_amount = Amt_investment*Weights.at['IOC', 'Weights']\n",
    "LT_amount = Amt_investment*Weights.at['LT', 'Weights']\n",
    "TCS_amount = Amt_investment*Weights.at['TCS', 'Weights']\n",
    "HDFCBANK_amount = Amt_investment*Weights.at['HDFCBANK', 'Weights']\n",
    "KOTAKBANK_amount = Amt_investment*Weights.at['KOTAKBANK', 'Weights']\n",
    "\n",
    "ITC_no = np.floor(ITC_amount/Weights.at['ITC', 'Prices'])\n",
    "IOC_no = np.floor(IOC_amount/Weights.at['IOC', 'Prices'])\n",
    "LT_no = np.floor(LT_amount/Weights.at['LT', 'Prices'])\n",
    "TCS_no = np.floor(TCS_amount/Weights.at['TCS', 'Prices'])\n",
    "HDFCBANK_no = np.floor(HDFCBANK_amount/Weights.at['HDFCBANK', 'Prices'])\n",
    "KOTAKBANK_no = np.floor(KOTAKBANK_amount/Weights.at['KOTAKBANK', 'Prices'])\n",
    "\n",
    "table = [[\"ITC\", ITC_no], [\"IOC\", IOC_no],[\"LT\", LT_no],[\"TCS\", TCS_no],[\"HDFCBANK\", HDFCBANK_no],[\"KOTACKBANK\", KOTAKBANK_no]]\n",
    "\n",
    "print(\"Number of shares to be purchased per stock is:\")\n",
    "print(tabulate(table, headers=['Stock', 'Units'],tablefmt= 'fancy_grid',numalign=\"right\"))\n"
   ]
  },
  {
   "cell_type": "markdown",
   "id": "ab2cb20a",
   "metadata": {},
   "source": [
    "### Export the weighted price as our univaroate time series data for further analysis"
   ]
  },
  {
   "cell_type": "code",
   "execution_count": 35,
   "id": "0e78386c",
   "metadata": {},
   "outputs": [],
   "source": [
    "forecast_data = Portfolio_data[['Date','Weighted_price']]"
   ]
  },
  {
   "cell_type": "code",
   "execution_count": 36,
   "id": "01dd38c9",
   "metadata": {},
   "outputs": [],
   "source": [
    "forecast_data.to_pickle(\"Timeseries_data.pkl\")"
   ]
  },
  {
   "cell_type": "code",
   "execution_count": 29,
   "id": "2af18354",
   "metadata": {},
   "outputs": [],
   "source": [
    "Weights = Weights.reset_index()"
   ]
  },
  {
   "cell_type": "code",
   "execution_count": 31,
   "id": "85804fef",
   "metadata": {},
   "outputs": [],
   "source": [
    "Weights.to_pickle('Weights.pkl')"
   ]
  }
 ],
 "metadata": {
  "kernelspec": {
   "display_name": "Python 3 (ipykernel)",
   "language": "python",
   "name": "python3"
  },
  "language_info": {
   "codemirror_mode": {
    "name": "ipython",
    "version": 3
   },
   "file_extension": ".py",
   "mimetype": "text/x-python",
   "name": "python",
   "nbconvert_exporter": "python",
   "pygments_lexer": "ipython3",
   "version": "3.9.7"
  }
 },
 "nbformat": 4,
 "nbformat_minor": 5
}
