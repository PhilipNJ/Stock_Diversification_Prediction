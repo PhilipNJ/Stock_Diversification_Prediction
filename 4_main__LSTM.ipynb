{
 "cells": [
  {
   "cell_type": "markdown",
   "metadata": {},
   "source": [
    "# LSTM\n",
    "\n",
    "To understand LSTM's we need to first understand, RNN's.\n",
    "\n",
    "RNN's or Recurrent Neural Networks are networks with loops in them, allowing information to persist. A recurrent neural network can be thought of as multiple copies of the same network, each passing a message to a successor. Consider what happens if we unroll the loop:\n",
    "\n",
    "<img src=\"https://colah.github.io/posts/2015-08-Understanding-LSTMs/img/RNN-unrolled.png\" alt=\"drawing\" width=\"300\"/>\n",
    "\n",
    "This chain-like nature reveals that recurrent neural networks are intimately related to sequences and lists. They’re the natural architecture of neural network to use for such data.\n",
    "\n",
    "However, traditional RNN's aren't capable of handling long term dependencies, therefore LSTM's were invented.\n",
    "\n",
    "**Long Short Term Memory networks** – usually just called “LSTMs” – are a special kind of RNN, capable of learning long-term dependencies.\n",
    "At a high-level LSTM works very much like an RNN cell. Here is the internal functioning of the LSTM network. The LSTM  consists of three parts, as shown in the image below and each part performs an individual function.\n",
    "<img src=\"https://cdn.analyticsvidhya.com/wp-content/uploads/2021/03/Screenshot-from-2021-03-16-13-41-03.png\" alt=\"drawing\" width=\"300\"/>\n",
    "\n",
    "LSTMs also help solve exploding and vanishing gradient problems. In simple terms, these problems are a result of repeated weight adjustments as a neural network trains. With repeated epochs, gradients become larger or smaller, and with each adjustment, it becomes easier for the network’s gradients to compound in either direction. This compounding either makes the gradients way too large or way too small. While exploding and vanishing gradients are huge downsides of using traditional RNN’s, LSTM architecture severely mitigates these issues.\n",
    "\n",
    "After a prediction is made, it is fed back into the model to predict the next value in the sequence. With each prediction, some error is introduced into the model. To avoid exploding gradients, values are ‘squashed’ via (typically) sigmoid & tanh activation functions prior to gate entrance & output.\n"
   ]
  },
  {
   "cell_type": "markdown",
   "metadata": {},
   "source": [
    "### Import Dependencies"
   ]
  },
  {
   "cell_type": "code",
   "execution_count": 1,
   "metadata": {
    "id": "94kbMKD3-8Kp"
   },
   "outputs": [],
   "source": [
    "import pandas as pd\n",
    "import matplotlib.pyplot as plt\n",
    "import numpy as np\n",
    "from sklearn.preprocessing import MinMaxScaler\n",
    "import numpy\n",
    "### Create the Stacked LSTM model\n",
    "from tensorflow.keras.models import Sequential\n",
    "from tensorflow.keras.layers import Dense\n",
    "from tensorflow.keras.layers import LSTM\n",
    "import tensorflow as tf\n",
    "### Calculate RMSE performance metrics\n",
    "import math\n",
    "from sklearn.metrics import mean_squared_error"
   ]
  },
  {
   "cell_type": "markdown",
   "metadata": {},
   "source": [
    "### Import Data"
   ]
  },
  {
   "cell_type": "code",
   "execution_count": 2,
   "metadata": {
    "colab": {
     "base_uri": "https://localhost:8080/"
    },
    "id": "UFbzYMVpANs5",
    "outputId": "555df020-5292-4893-d8f9-24b5fecb412c"
   },
   "outputs": [
    {
     "name": "stdout",
     "output_type": "stream",
     "text": [
      "Looking in indexes: https://pypi.org/simple, https://us-python.pkg.dev/colab-wheels/public/simple/\n",
      "Requirement already satisfied: pickle5 in /usr/local/lib/python3.7/dist-packages (0.0.12)\n"
     ]
    }
   ],
   "source": [
    "!pip3 install pickle5\n",
    "import pickle5 as pickle\n",
    "with open('/content/drive/MyDrive/Timeseries_data.pkl', \"rb\") as fh:\n",
    "  df = pickle.load(fh)"
   ]
  },
  {
   "cell_type": "code",
   "execution_count": 3,
   "metadata": {
    "colab": {
     "base_uri": "https://localhost:8080/",
     "height": 143
    },
    "id": "_Z6G8wd-AdRy",
    "outputId": "2670b6d2-5bac-4618-cc65-a007ecff5a8c"
   },
   "outputs": [
    {
     "data": {
      "text/html": [
       "\n",
       "  <div id=\"df-f5852ffe-9131-44e6-869e-da74ae3b0c61\">\n",
       "    <div class=\"colab-df-container\">\n",
       "      <div>\n",
       "<style scoped>\n",
       "    .dataframe tbody tr th:only-of-type {\n",
       "        vertical-align: middle;\n",
       "    }\n",
       "\n",
       "    .dataframe tbody tr th {\n",
       "        vertical-align: top;\n",
       "    }\n",
       "\n",
       "    .dataframe thead th {\n",
       "        text-align: right;\n",
       "    }\n",
       "</style>\n",
       "<table border=\"1\" class=\"dataframe\">\n",
       "  <thead>\n",
       "    <tr style=\"text-align: right;\">\n",
       "      <th></th>\n",
       "      <th>Date</th>\n",
       "      <th>Weighted_price</th>\n",
       "    </tr>\n",
       "  </thead>\n",
       "  <tbody>\n",
       "    <tr>\n",
       "      <th>574</th>\n",
       "      <td>2014-07-30</td>\n",
       "      <td>214.287101</td>\n",
       "    </tr>\n",
       "    <tr>\n",
       "      <th>1363</th>\n",
       "      <td>2017-10-17</td>\n",
       "      <td>346.893130</td>\n",
       "    </tr>\n",
       "    <tr>\n",
       "      <th>493</th>\n",
       "      <td>2014-04-01</td>\n",
       "      <td>189.093465</td>\n",
       "    </tr>\n",
       "  </tbody>\n",
       "</table>\n",
       "</div>\n",
       "      <button class=\"colab-df-convert\" onclick=\"convertToInteractive('df-f5852ffe-9131-44e6-869e-da74ae3b0c61')\"\n",
       "              title=\"Convert this dataframe to an interactive table.\"\n",
       "              style=\"display:none;\">\n",
       "        \n",
       "  <svg xmlns=\"http://www.w3.org/2000/svg\" height=\"24px\"viewBox=\"0 0 24 24\"\n",
       "       width=\"24px\">\n",
       "    <path d=\"M0 0h24v24H0V0z\" fill=\"none\"/>\n",
       "    <path d=\"M18.56 5.44l.94 2.06.94-2.06 2.06-.94-2.06-.94-.94-2.06-.94 2.06-2.06.94zm-11 1L8.5 8.5l.94-2.06 2.06-.94-2.06-.94L8.5 2.5l-.94 2.06-2.06.94zm10 10l.94 2.06.94-2.06 2.06-.94-2.06-.94-.94-2.06-.94 2.06-2.06.94z\"/><path d=\"M17.41 7.96l-1.37-1.37c-.4-.4-.92-.59-1.43-.59-.52 0-1.04.2-1.43.59L10.3 9.45l-7.72 7.72c-.78.78-.78 2.05 0 2.83L4 21.41c.39.39.9.59 1.41.59.51 0 1.02-.2 1.41-.59l7.78-7.78 2.81-2.81c.8-.78.8-2.07 0-2.86zM5.41 20L4 18.59l7.72-7.72 1.47 1.35L5.41 20z\"/>\n",
       "  </svg>\n",
       "      </button>\n",
       "      \n",
       "  <style>\n",
       "    .colab-df-container {\n",
       "      display:flex;\n",
       "      flex-wrap:wrap;\n",
       "      gap: 12px;\n",
       "    }\n",
       "\n",
       "    .colab-df-convert {\n",
       "      background-color: #E8F0FE;\n",
       "      border: none;\n",
       "      border-radius: 50%;\n",
       "      cursor: pointer;\n",
       "      display: none;\n",
       "      fill: #1967D2;\n",
       "      height: 32px;\n",
       "      padding: 0 0 0 0;\n",
       "      width: 32px;\n",
       "    }\n",
       "\n",
       "    .colab-df-convert:hover {\n",
       "      background-color: #E2EBFA;\n",
       "      box-shadow: 0px 1px 2px rgba(60, 64, 67, 0.3), 0px 1px 3px 1px rgba(60, 64, 67, 0.15);\n",
       "      fill: #174EA6;\n",
       "    }\n",
       "\n",
       "    [theme=dark] .colab-df-convert {\n",
       "      background-color: #3B4455;\n",
       "      fill: #D2E3FC;\n",
       "    }\n",
       "\n",
       "    [theme=dark] .colab-df-convert:hover {\n",
       "      background-color: #434B5C;\n",
       "      box-shadow: 0px 1px 3px 1px rgba(0, 0, 0, 0.15);\n",
       "      filter: drop-shadow(0px 1px 2px rgba(0, 0, 0, 0.3));\n",
       "      fill: #FFFFFF;\n",
       "    }\n",
       "  </style>\n",
       "\n",
       "      <script>\n",
       "        const buttonEl =\n",
       "          document.querySelector('#df-f5852ffe-9131-44e6-869e-da74ae3b0c61 button.colab-df-convert');\n",
       "        buttonEl.style.display =\n",
       "          google.colab.kernel.accessAllowed ? 'block' : 'none';\n",
       "\n",
       "        async function convertToInteractive(key) {\n",
       "          const element = document.querySelector('#df-f5852ffe-9131-44e6-869e-da74ae3b0c61');\n",
       "          const dataTable =\n",
       "            await google.colab.kernel.invokeFunction('convertToInteractive',\n",
       "                                                     [key], {});\n",
       "          if (!dataTable) return;\n",
       "\n",
       "          const docLinkHtml = 'Like what you see? Visit the ' +\n",
       "            '<a target=\"_blank\" href=https://colab.research.google.com/notebooks/data_table.ipynb>data table notebook</a>'\n",
       "            + ' to learn more about interactive tables.';\n",
       "          element.innerHTML = '';\n",
       "          dataTable['output_type'] = 'display_data';\n",
       "          await google.colab.output.renderOutput(dataTable, element);\n",
       "          const docLink = document.createElement('div');\n",
       "          docLink.innerHTML = docLinkHtml;\n",
       "          element.appendChild(docLink);\n",
       "        }\n",
       "      </script>\n",
       "    </div>\n",
       "  </div>\n",
       "  "
      ],
      "text/plain": [
       "           Date  Weighted_price\n",
       "574  2014-07-30      214.287101\n",
       "1363 2017-10-17      346.893130\n",
       "493  2014-04-01      189.093465"
      ]
     },
     "execution_count": 3,
     "metadata": {},
     "output_type": "execute_result"
    }
   ],
   "source": [
    "df.sample(3)"
   ]
  },
  {
   "cell_type": "markdown",
   "metadata": {},
   "source": [
    "Create new df with just the prices"
   ]
  },
  {
   "cell_type": "code",
   "execution_count": 4,
   "metadata": {
    "id": "tInMHaILAgva"
   },
   "outputs": [],
   "source": [
    "data = df[['Weighted_price']]"
   ]
  },
  {
   "cell_type": "code",
   "execution_count": 5,
   "metadata": {
    "colab": {
     "base_uri": "https://localhost:8080/",
     "height": 143
    },
    "id": "rh-J7zfoA5Fw",
    "outputId": "110dc346-ca68-4431-a3d9-583e4fdfd921"
   },
   "outputs": [
    {
     "data": {
      "text/html": [
       "\n",
       "  <div id=\"df-32310c27-c5ec-45fd-b582-2042fd3144e1\">\n",
       "    <div class=\"colab-df-container\">\n",
       "      <div>\n",
       "<style scoped>\n",
       "    .dataframe tbody tr th:only-of-type {\n",
       "        vertical-align: middle;\n",
       "    }\n",
       "\n",
       "    .dataframe tbody tr th {\n",
       "        vertical-align: top;\n",
       "    }\n",
       "\n",
       "    .dataframe thead th {\n",
       "        text-align: right;\n",
       "    }\n",
       "</style>\n",
       "<table border=\"1\" class=\"dataframe\">\n",
       "  <thead>\n",
       "    <tr style=\"text-align: right;\">\n",
       "      <th></th>\n",
       "      <th>Weighted_price</th>\n",
       "    </tr>\n",
       "  </thead>\n",
       "  <tbody>\n",
       "    <tr>\n",
       "      <th>0</th>\n",
       "      <td>136.312065</td>\n",
       "    </tr>\n",
       "    <tr>\n",
       "      <th>1</th>\n",
       "      <td>137.683837</td>\n",
       "    </tr>\n",
       "    <tr>\n",
       "      <th>2</th>\n",
       "      <td>136.686676</td>\n",
       "    </tr>\n",
       "  </tbody>\n",
       "</table>\n",
       "</div>\n",
       "      <button class=\"colab-df-convert\" onclick=\"convertToInteractive('df-32310c27-c5ec-45fd-b582-2042fd3144e1')\"\n",
       "              title=\"Convert this dataframe to an interactive table.\"\n",
       "              style=\"display:none;\">\n",
       "        \n",
       "  <svg xmlns=\"http://www.w3.org/2000/svg\" height=\"24px\"viewBox=\"0 0 24 24\"\n",
       "       width=\"24px\">\n",
       "    <path d=\"M0 0h24v24H0V0z\" fill=\"none\"/>\n",
       "    <path d=\"M18.56 5.44l.94 2.06.94-2.06 2.06-.94-2.06-.94-.94-2.06-.94 2.06-2.06.94zm-11 1L8.5 8.5l.94-2.06 2.06-.94-2.06-.94L8.5 2.5l-.94 2.06-2.06.94zm10 10l.94 2.06.94-2.06 2.06-.94-2.06-.94-.94-2.06-.94 2.06-2.06.94z\"/><path d=\"M17.41 7.96l-1.37-1.37c-.4-.4-.92-.59-1.43-.59-.52 0-1.04.2-1.43.59L10.3 9.45l-7.72 7.72c-.78.78-.78 2.05 0 2.83L4 21.41c.39.39.9.59 1.41.59.51 0 1.02-.2 1.41-.59l7.78-7.78 2.81-2.81c.8-.78.8-2.07 0-2.86zM5.41 20L4 18.59l7.72-7.72 1.47 1.35L5.41 20z\"/>\n",
       "  </svg>\n",
       "      </button>\n",
       "      \n",
       "  <style>\n",
       "    .colab-df-container {\n",
       "      display:flex;\n",
       "      flex-wrap:wrap;\n",
       "      gap: 12px;\n",
       "    }\n",
       "\n",
       "    .colab-df-convert {\n",
       "      background-color: #E8F0FE;\n",
       "      border: none;\n",
       "      border-radius: 50%;\n",
       "      cursor: pointer;\n",
       "      display: none;\n",
       "      fill: #1967D2;\n",
       "      height: 32px;\n",
       "      padding: 0 0 0 0;\n",
       "      width: 32px;\n",
       "    }\n",
       "\n",
       "    .colab-df-convert:hover {\n",
       "      background-color: #E2EBFA;\n",
       "      box-shadow: 0px 1px 2px rgba(60, 64, 67, 0.3), 0px 1px 3px 1px rgba(60, 64, 67, 0.15);\n",
       "      fill: #174EA6;\n",
       "    }\n",
       "\n",
       "    [theme=dark] .colab-df-convert {\n",
       "      background-color: #3B4455;\n",
       "      fill: #D2E3FC;\n",
       "    }\n",
       "\n",
       "    [theme=dark] .colab-df-convert:hover {\n",
       "      background-color: #434B5C;\n",
       "      box-shadow: 0px 1px 3px 1px rgba(0, 0, 0, 0.15);\n",
       "      filter: drop-shadow(0px 1px 2px rgba(0, 0, 0, 0.3));\n",
       "      fill: #FFFFFF;\n",
       "    }\n",
       "  </style>\n",
       "\n",
       "      <script>\n",
       "        const buttonEl =\n",
       "          document.querySelector('#df-32310c27-c5ec-45fd-b582-2042fd3144e1 button.colab-df-convert');\n",
       "        buttonEl.style.display =\n",
       "          google.colab.kernel.accessAllowed ? 'block' : 'none';\n",
       "\n",
       "        async function convertToInteractive(key) {\n",
       "          const element = document.querySelector('#df-32310c27-c5ec-45fd-b582-2042fd3144e1');\n",
       "          const dataTable =\n",
       "            await google.colab.kernel.invokeFunction('convertToInteractive',\n",
       "                                                     [key], {});\n",
       "          if (!dataTable) return;\n",
       "\n",
       "          const docLinkHtml = 'Like what you see? Visit the ' +\n",
       "            '<a target=\"_blank\" href=https://colab.research.google.com/notebooks/data_table.ipynb>data table notebook</a>'\n",
       "            + ' to learn more about interactive tables.';\n",
       "          element.innerHTML = '';\n",
       "          dataTable['output_type'] = 'display_data';\n",
       "          await google.colab.output.renderOutput(dataTable, element);\n",
       "          const docLink = document.createElement('div');\n",
       "          docLink.innerHTML = docLinkHtml;\n",
       "          element.appendChild(docLink);\n",
       "        }\n",
       "      </script>\n",
       "    </div>\n",
       "  </div>\n",
       "  "
      ],
      "text/plain": [
       "   Weighted_price\n",
       "0      136.312065\n",
       "1      137.683837\n",
       "2      136.686676"
      ]
     },
     "execution_count": 5,
     "metadata": {},
     "output_type": "execute_result"
    }
   ],
   "source": [
    "data.head(3)"
   ]
  },
  {
   "cell_type": "markdown",
   "metadata": {},
   "source": [
    "### Data Pre-process\n",
    "\n",
    "Since the LSTM is sensitive to integers we use a MinMax scaler to bring all prices within the range of (0,1)"
   ]
  },
  {
   "cell_type": "code",
   "execution_count": 6,
   "metadata": {
    "id": "1prMWcA9AuWx"
   },
   "outputs": [],
   "source": [
    "scaler=MinMaxScaler(feature_range=(0,1))\n",
    "data=scaler.fit_transform(np.array(data).reshape(-1,1))"
   ]
  },
  {
   "cell_type": "code",
   "execution_count": 7,
   "metadata": {
    "colab": {
     "base_uri": "https://localhost:8080/"
    },
    "id": "lzBuuunTA-WU",
    "outputId": "66aedb88-bca1-4294-f105-f7562b8670dc"
   },
   "outputs": [
    {
     "data": {
      "text/plain": [
       "(2463, 1)"
      ]
     },
     "execution_count": 7,
     "metadata": {},
     "output_type": "execute_result"
    }
   ],
   "source": [
    "data.shape"
   ]
  },
  {
   "cell_type": "markdown",
   "metadata": {},
   "source": [
    "Date is split into train and test with a 70-30 split"
   ]
  },
  {
   "cell_type": "code",
   "execution_count": 8,
   "metadata": {
    "id": "ch24ShUCBCC6"
   },
   "outputs": [],
   "source": [
    "training_size=int(len(data)*0.70)\n",
    "test_size=len(data)-training_size\n",
    "train_data,test_data=data[0:training_size,:],data[training_size:len(data),:1]"
   ]
  },
  {
   "cell_type": "markdown",
   "metadata": {},
   "source": [
    "We reshape the data to create into a stacked array the program can parse"
   ]
  },
  {
   "cell_type": "code",
   "execution_count": 9,
   "metadata": {
    "id": "pMpCNu2WBfVD"
   },
   "outputs": [],
   "source": [
    "def create_dataset(dataset, time_step=1):\n",
    "\tdataX, dataY = [], []\n",
    "\tfor i in range(len(dataset)-time_step-1):\n",
    "\t\ta = dataset[i:(i+time_step), 0]   ###i=0, 0,1,2,3-----99   100 \n",
    "\t\tdataX.append(a)\n",
    "\t\tdataY.append(dataset[i + time_step, 0])\n",
    "\treturn numpy.array(dataX), numpy.array(dataY)"
   ]
  },
  {
   "cell_type": "code",
   "execution_count": 10,
   "metadata": {
    "id": "HjF4KKB5B1Wx"
   },
   "outputs": [],
   "source": [
    "# reshape into X=t,t+1,t+2,t+3,..,t+n and Y=t+(n+1)\n",
    "time_step = 30\n",
    "X_train, y_train = create_dataset(train_data, time_step)\n",
    "X_test, ytest = create_dataset(test_data, time_step)"
   ]
  },
  {
   "cell_type": "code",
   "execution_count": 11,
   "metadata": {
    "colab": {
     "base_uri": "https://localhost:8080/"
    },
    "id": "iZbLssuKCF20",
    "outputId": "ee42e103-7987-401b-ca97-19d2c5031b73"
   },
   "outputs": [
    {
     "name": "stdout",
     "output_type": "stream",
     "text": [
      "(1693, 30)\n",
      "(1693,)\n"
     ]
    },
    {
     "data": {
      "text/plain": [
       "(None, None)"
      ]
     },
     "execution_count": 11,
     "metadata": {},
     "output_type": "execute_result"
    }
   ],
   "source": [
    "print(X_train.shape), print(y_train.shape)"
   ]
  },
  {
   "cell_type": "code",
   "execution_count": 12,
   "metadata": {
    "colab": {
     "base_uri": "https://localhost:8080/"
    },
    "id": "1sgkzZAMCJnG",
    "outputId": "0a4e1328-a347-4af9-c299-f619ca5a66bd"
   },
   "outputs": [
    {
     "name": "stdout",
     "output_type": "stream",
     "text": [
      "(708, 30)\n",
      "(708,)\n"
     ]
    },
    {
     "data": {
      "text/plain": [
       "(None, None)"
      ]
     },
     "execution_count": 12,
     "metadata": {},
     "output_type": "execute_result"
    }
   ],
   "source": [
    "print(X_test.shape), print(ytest.shape)"
   ]
  },
  {
   "cell_type": "code",
   "execution_count": 13,
   "metadata": {
    "id": "y8N3mrwACMag"
   },
   "outputs": [],
   "source": [
    "# reshape input to be [samples, time steps, features] which is required for LSTM\n",
    "X_train =X_train.reshape(X_train.shape[0],X_train.shape[1] , 1)\n",
    "X_test = X_test.reshape(X_test.shape[0],X_test.shape[1] , 1)"
   ]
  },
  {
   "cell_type": "markdown",
   "metadata": {},
   "source": [
    "### Define and Train Model\n",
    "\n",
    "We define the LSTM Model with:\n",
    "\n",
    "1. 50 units i.e. output dimensionality\n",
    "2. Activation function - Tanh\n",
    "3. return the just the output sequence and not the full sequence\n",
    "4. loss function is MSE\n",
    "5. Optimizer is ADAM \n",
    "\n",
    "3 LSTM layers are used with 1 Dense layer. The dense layer is a neural network layer that is connected deeply, which means each neuron in the dense layer receives input from all neurons of its previous layer. In the background, the dense layer performs a matrix-vector multiplication. The values used in the matrix are actually parameters that can be trained and updated with the help of backpropagation."
   ]
  },
  {
   "cell_type": "code",
   "execution_count": 14,
   "metadata": {
    "id": "rO5O4ZYKCQpb"
   },
   "outputs": [],
   "source": [
    "model=Sequential()\n",
    "model.add(LSTM(50,return_sequences=True,input_shape=(time_step,1)))\n",
    "model.add(LSTM(50,return_sequences=True))\n",
    "model.add(LSTM(50))\n",
    "model.add(Dense(1))\n",
    "model.compile(loss='mean_squared_error',optimizer='adam')"
   ]
  },
  {
   "cell_type": "code",
   "execution_count": 15,
   "metadata": {
    "colab": {
     "base_uri": "https://localhost:8080/"
    },
    "id": "vQg2XxvkCzYP",
    "outputId": "7a764e82-0329-4a65-e208-d94dcc25854c"
   },
   "outputs": [
    {
     "name": "stdout",
     "output_type": "stream",
     "text": [
      "Model: \"sequential\"\n",
      "_________________________________________________________________\n",
      " Layer (type)                Output Shape              Param #   \n",
      "=================================================================\n",
      " lstm (LSTM)                 (None, 30, 50)            10400     \n",
      "                                                                 \n",
      " lstm_1 (LSTM)               (None, 30, 50)            20200     \n",
      "                                                                 \n",
      " lstm_2 (LSTM)               (None, 50)                20200     \n",
      "                                                                 \n",
      " dense (Dense)               (None, 1)                 51        \n",
      "                                                                 \n",
      "=================================================================\n",
      "Total params: 50,851\n",
      "Trainable params: 50,851\n",
      "Non-trainable params: 0\n",
      "_________________________________________________________________\n"
     ]
    }
   ],
   "source": [
    "model.summary()"
   ]
  },
  {
   "cell_type": "markdown",
   "metadata": {},
   "source": [
    "* The batch size is a hyperparameter of gradient descent that controls the number of training samples to work through before the model’s internal parameters are updated.\n",
    "* The number of epochs is a hyperparameter of gradient descent that controls the number of complete passes through the training dataset.\n",
    "* Verbose = 1 shows us each epoch running in a status bar"
   ]
  },
  {
   "cell_type": "code",
   "execution_count": 16,
   "metadata": {
    "colab": {
     "base_uri": "https://localhost:8080/"
    },
    "id": "UbdQXxhIC9Nc",
    "outputId": "9deb6828-51ef-4594-8b91-14400538859b"
   },
   "outputs": [
    {
     "name": "stdout",
     "output_type": "stream",
     "text": [
      "Epoch 1/150\n",
      "27/27 [==============================] - 7s 52ms/step - loss: 0.0322 - val_loss: 0.0059\n",
      "Epoch 2/150\n",
      "27/27 [==============================] - 0s 12ms/step - loss: 0.0017 - val_loss: 0.0022\n",
      "Epoch 3/150\n",
      "27/27 [==============================] - 0s 11ms/step - loss: 5.9031e-04 - val_loss: 0.0023\n",
      "Epoch 4/150\n",
      "27/27 [==============================] - 0s 11ms/step - loss: 5.1389e-04 - val_loss: 0.0021\n",
      "Epoch 5/150\n",
      "27/27 [==============================] - 0s 12ms/step - loss: 5.1284e-04 - val_loss: 0.0023\n",
      "Epoch 6/150\n",
      "27/27 [==============================] - 0s 12ms/step - loss: 5.0628e-04 - val_loss: 0.0022\n",
      "Epoch 7/150\n",
      "27/27 [==============================] - 0s 11ms/step - loss: 5.2586e-04 - val_loss: 0.0021\n",
      "Epoch 8/150\n",
      "27/27 [==============================] - 0s 12ms/step - loss: 4.9760e-04 - val_loss: 0.0021\n",
      "Epoch 9/150\n",
      "27/27 [==============================] - 0s 11ms/step - loss: 5.1789e-04 - val_loss: 0.0021\n",
      "Epoch 10/150\n",
      "27/27 [==============================] - 0s 11ms/step - loss: 4.8821e-04 - val_loss: 0.0021\n",
      "Epoch 11/150\n",
      "27/27 [==============================] - 0s 12ms/step - loss: 4.9016e-04 - val_loss: 0.0020\n",
      "Epoch 12/150\n",
      "27/27 [==============================] - 0s 11ms/step - loss: 4.9123e-04 - val_loss: 0.0022\n",
      "Epoch 13/150\n",
      "27/27 [==============================] - 0s 12ms/step - loss: 4.7672e-04 - val_loss: 0.0021\n",
      "Epoch 14/150\n",
      "27/27 [==============================] - 0s 12ms/step - loss: 4.6932e-04 - val_loss: 0.0020\n",
      "Epoch 15/150\n",
      "27/27 [==============================] - 0s 12ms/step - loss: 4.6999e-04 - val_loss: 0.0019\n",
      "Epoch 16/150\n",
      "27/27 [==============================] - 0s 12ms/step - loss: 4.6040e-04 - val_loss: 0.0019\n",
      "Epoch 17/150\n",
      "27/27 [==============================] - 0s 12ms/step - loss: 4.6636e-04 - val_loss: 0.0023\n",
      "Epoch 18/150\n",
      "27/27 [==============================] - 0s 12ms/step - loss: 5.4224e-04 - val_loss: 0.0019\n",
      "Epoch 19/150\n",
      "27/27 [==============================] - 0s 11ms/step - loss: 5.0873e-04 - val_loss: 0.0018\n",
      "Epoch 20/150\n",
      "27/27 [==============================] - 0s 12ms/step - loss: 4.6252e-04 - val_loss: 0.0019\n",
      "Epoch 21/150\n",
      "27/27 [==============================] - 0s 13ms/step - loss: 4.4242e-04 - val_loss: 0.0018\n",
      "Epoch 22/150\n",
      "27/27 [==============================] - 0s 12ms/step - loss: 4.6438e-04 - val_loss: 0.0017\n",
      "Epoch 23/150\n",
      "27/27 [==============================] - 0s 12ms/step - loss: 4.3828e-04 - val_loss: 0.0016\n",
      "Epoch 24/150\n",
      "27/27 [==============================] - 0s 12ms/step - loss: 4.1660e-04 - val_loss: 0.0016\n",
      "Epoch 25/150\n",
      "27/27 [==============================] - 0s 11ms/step - loss: 4.1467e-04 - val_loss: 0.0018\n",
      "Epoch 26/150\n",
      "27/27 [==============================] - 0s 12ms/step - loss: 4.3079e-04 - val_loss: 0.0015\n",
      "Epoch 27/150\n",
      "27/27 [==============================] - 0s 12ms/step - loss: 4.0327e-04 - val_loss: 0.0016\n",
      "Epoch 28/150\n",
      "27/27 [==============================] - 0s 12ms/step - loss: 4.4622e-04 - val_loss: 0.0014\n",
      "Epoch 29/150\n",
      "27/27 [==============================] - 0s 11ms/step - loss: 4.0726e-04 - val_loss: 0.0014\n",
      "Epoch 30/150\n",
      "27/27 [==============================] - 0s 12ms/step - loss: 3.9286e-04 - val_loss: 0.0015\n",
      "Epoch 31/150\n",
      "27/27 [==============================] - 0s 11ms/step - loss: 3.7884e-04 - val_loss: 0.0015\n",
      "Epoch 32/150\n",
      "27/27 [==============================] - 0s 11ms/step - loss: 4.2767e-04 - val_loss: 0.0014\n",
      "Epoch 33/150\n",
      "27/27 [==============================] - 0s 11ms/step - loss: 3.8120e-04 - val_loss: 0.0015\n",
      "Epoch 34/150\n",
      "27/27 [==============================] - 0s 12ms/step - loss: 3.5442e-04 - val_loss: 0.0012\n",
      "Epoch 35/150\n",
      "27/27 [==============================] - 0s 12ms/step - loss: 3.4373e-04 - val_loss: 0.0019\n",
      "Epoch 36/150\n",
      "27/27 [==============================] - 0s 11ms/step - loss: 4.3305e-04 - val_loss: 0.0029\n",
      "Epoch 37/150\n",
      "27/27 [==============================] - 0s 12ms/step - loss: 4.9042e-04 - val_loss: 0.0025\n",
      "Epoch 38/150\n",
      "27/27 [==============================] - 0s 13ms/step - loss: 3.9269e-04 - val_loss: 0.0012\n",
      "Epoch 39/150\n",
      "27/27 [==============================] - 0s 13ms/step - loss: 3.4758e-04 - val_loss: 0.0014\n",
      "Epoch 40/150\n",
      "27/27 [==============================] - 0s 12ms/step - loss: 3.1901e-04 - val_loss: 0.0012\n",
      "Epoch 41/150\n",
      "27/27 [==============================] - 0s 11ms/step - loss: 3.4526e-04 - val_loss: 0.0015\n",
      "Epoch 42/150\n",
      "27/27 [==============================] - 0s 12ms/step - loss: 3.3876e-04 - val_loss: 0.0017\n",
      "Epoch 43/150\n",
      "27/27 [==============================] - 0s 12ms/step - loss: 3.4613e-04 - val_loss: 0.0012\n",
      "Epoch 44/150\n",
      "27/27 [==============================] - 0s 11ms/step - loss: 2.8947e-04 - val_loss: 0.0010\n",
      "Epoch 45/150\n",
      "27/27 [==============================] - 0s 12ms/step - loss: 2.7529e-04 - val_loss: 0.0013\n",
      "Epoch 46/150\n",
      "27/27 [==============================] - 0s 12ms/step - loss: 2.7944e-04 - val_loss: 8.7106e-04\n",
      "Epoch 47/150\n",
      "27/27 [==============================] - 0s 12ms/step - loss: 2.9437e-04 - val_loss: 9.0530e-04\n",
      "Epoch 48/150\n",
      "27/27 [==============================] - 0s 12ms/step - loss: 2.9564e-04 - val_loss: 0.0010\n",
      "Epoch 49/150\n",
      "27/27 [==============================] - 0s 12ms/step - loss: 2.7347e-04 - val_loss: 9.9040e-04\n",
      "Epoch 50/150\n",
      "27/27 [==============================] - 0s 11ms/step - loss: 2.5445e-04 - val_loss: 0.0015\n",
      "Epoch 51/150\n",
      "27/27 [==============================] - 0s 12ms/step - loss: 2.9531e-04 - val_loss: 9.8971e-04\n",
      "Epoch 52/150\n",
      "27/27 [==============================] - 0s 12ms/step - loss: 2.9755e-04 - val_loss: 0.0011\n",
      "Epoch 53/150\n",
      "27/27 [==============================] - 0s 12ms/step - loss: 2.6024e-04 - val_loss: 7.9472e-04\n",
      "Epoch 54/150\n",
      "27/27 [==============================] - 0s 12ms/step - loss: 2.5761e-04 - val_loss: 7.8267e-04\n",
      "Epoch 55/150\n",
      "27/27 [==============================] - 0s 11ms/step - loss: 2.7291e-04 - val_loss: 7.9254e-04\n",
      "Epoch 56/150\n",
      "27/27 [==============================] - 0s 12ms/step - loss: 2.2686e-04 - val_loss: 7.2333e-04\n",
      "Epoch 57/150\n",
      "27/27 [==============================] - 0s 12ms/step - loss: 2.2378e-04 - val_loss: 9.7722e-04\n",
      "Epoch 58/150\n",
      "27/27 [==============================] - 0s 12ms/step - loss: 2.2344e-04 - val_loss: 7.0216e-04\n",
      "Epoch 59/150\n",
      "27/27 [==============================] - 0s 12ms/step - loss: 2.2861e-04 - val_loss: 6.9085e-04\n",
      "Epoch 60/150\n",
      "27/27 [==============================] - 0s 12ms/step - loss: 2.4383e-04 - val_loss: 0.0011\n",
      "Epoch 61/150\n",
      "27/27 [==============================] - 0s 12ms/step - loss: 2.3067e-04 - val_loss: 8.2501e-04\n",
      "Epoch 62/150\n",
      "27/27 [==============================] - 0s 12ms/step - loss: 2.6464e-04 - val_loss: 0.0011\n",
      "Epoch 63/150\n",
      "27/27 [==============================] - 0s 11ms/step - loss: 2.5867e-04 - val_loss: 7.0689e-04\n",
      "Epoch 64/150\n",
      "27/27 [==============================] - 0s 12ms/step - loss: 1.9521e-04 - val_loss: 6.4537e-04\n",
      "Epoch 65/150\n",
      "27/27 [==============================] - 0s 12ms/step - loss: 1.9159e-04 - val_loss: 6.5832e-04\n",
      "Epoch 66/150\n",
      "27/27 [==============================] - 0s 12ms/step - loss: 2.1212e-04 - val_loss: 5.8650e-04\n",
      "Epoch 67/150\n",
      "27/27 [==============================] - 0s 13ms/step - loss: 2.1443e-04 - val_loss: 5.7399e-04\n",
      "Epoch 68/150\n",
      "27/27 [==============================] - 0s 12ms/step - loss: 1.9694e-04 - val_loss: 6.0082e-04\n",
      "Epoch 69/150\n",
      "27/27 [==============================] - 0s 13ms/step - loss: 2.0231e-04 - val_loss: 6.2999e-04\n",
      "Epoch 70/150\n",
      "27/27 [==============================] - 0s 12ms/step - loss: 2.6032e-04 - val_loss: 8.3577e-04\n",
      "Epoch 71/150\n",
      "27/27 [==============================] - 0s 12ms/step - loss: 2.2466e-04 - val_loss: 5.6764e-04\n",
      "Epoch 72/150\n",
      "27/27 [==============================] - 0s 12ms/step - loss: 1.8135e-04 - val_loss: 6.4411e-04\n",
      "Epoch 73/150\n",
      "27/27 [==============================] - 0s 11ms/step - loss: 1.8761e-04 - val_loss: 7.0203e-04\n",
      "Epoch 74/150\n",
      "27/27 [==============================] - 0s 12ms/step - loss: 2.1521e-04 - val_loss: 5.2893e-04\n",
      "Epoch 75/150\n",
      "27/27 [==============================] - 0s 12ms/step - loss: 1.6785e-04 - val_loss: 5.7675e-04\n",
      "Epoch 76/150\n",
      "27/27 [==============================] - 0s 11ms/step - loss: 1.6980e-04 - val_loss: 5.2473e-04\n",
      "Epoch 77/150\n",
      "27/27 [==============================] - 0s 12ms/step - loss: 2.0789e-04 - val_loss: 6.6147e-04\n",
      "Epoch 78/150\n",
      "27/27 [==============================] - 0s 11ms/step - loss: 1.8609e-04 - val_loss: 4.8076e-04\n",
      "Epoch 79/150\n",
      "27/27 [==============================] - 0s 12ms/step - loss: 1.7918e-04 - val_loss: 7.3115e-04\n",
      "Epoch 80/150\n",
      "27/27 [==============================] - 0s 12ms/step - loss: 1.6517e-04 - val_loss: 4.5155e-04\n",
      "Epoch 81/150\n",
      "27/27 [==============================] - 0s 12ms/step - loss: 1.7405e-04 - val_loss: 4.3942e-04\n",
      "Epoch 82/150\n",
      "27/27 [==============================] - 0s 12ms/step - loss: 1.5814e-04 - val_loss: 4.3035e-04\n",
      "Epoch 83/150\n",
      "27/27 [==============================] - 0s 12ms/step - loss: 1.7716e-04 - val_loss: 4.9967e-04\n",
      "Epoch 84/150\n",
      "27/27 [==============================] - 0s 12ms/step - loss: 1.7543e-04 - val_loss: 4.6073e-04\n",
      "Epoch 85/150\n",
      "27/27 [==============================] - 0s 12ms/step - loss: 1.8106e-04 - val_loss: 4.3792e-04\n",
      "Epoch 86/150\n",
      "27/27 [==============================] - 0s 11ms/step - loss: 1.7256e-04 - val_loss: 6.8730e-04\n",
      "Epoch 87/150\n",
      "27/27 [==============================] - 0s 12ms/step - loss: 1.4310e-04 - val_loss: 4.3951e-04\n",
      "Epoch 88/150\n",
      "27/27 [==============================] - 0s 12ms/step - loss: 1.7130e-04 - val_loss: 4.5504e-04\n",
      "Epoch 89/150\n",
      "27/27 [==============================] - 0s 11ms/step - loss: 1.5082e-04 - val_loss: 4.3274e-04\n",
      "Epoch 90/150\n",
      "27/27 [==============================] - 0s 12ms/step - loss: 1.6940e-04 - val_loss: 4.3129e-04\n",
      "Epoch 91/150\n",
      "27/27 [==============================] - 0s 12ms/step - loss: 1.5793e-04 - val_loss: 5.1685e-04\n",
      "Epoch 92/150\n",
      "27/27 [==============================] - 0s 11ms/step - loss: 1.4549e-04 - val_loss: 4.2305e-04\n",
      "Epoch 93/150\n",
      "27/27 [==============================] - 0s 12ms/step - loss: 1.6957e-04 - val_loss: 4.1463e-04\n",
      "Epoch 94/150\n",
      "27/27 [==============================] - 0s 11ms/step - loss: 1.6249e-04 - val_loss: 3.9941e-04\n",
      "Epoch 95/150\n",
      "27/27 [==============================] - 0s 12ms/step - loss: 1.3338e-04 - val_loss: 4.7658e-04\n",
      "Epoch 96/150\n",
      "27/27 [==============================] - 0s 12ms/step - loss: 1.3879e-04 - val_loss: 3.6026e-04\n",
      "Epoch 97/150\n",
      "27/27 [==============================] - 0s 12ms/step - loss: 1.4415e-04 - val_loss: 3.6548e-04\n",
      "Epoch 98/150\n",
      "27/27 [==============================] - 0s 11ms/step - loss: 1.3585e-04 - val_loss: 6.7487e-04\n",
      "Epoch 99/150\n",
      "27/27 [==============================] - 0s 12ms/step - loss: 2.0159e-04 - val_loss: 7.9932e-04\n",
      "Epoch 100/150\n",
      "27/27 [==============================] - 0s 11ms/step - loss: 1.9456e-04 - val_loss: 4.4495e-04\n",
      "Epoch 101/150\n",
      "27/27 [==============================] - 0s 11ms/step - loss: 1.8453e-04 - val_loss: 3.5912e-04\n",
      "Epoch 102/150\n",
      "27/27 [==============================] - 0s 13ms/step - loss: 1.3234e-04 - val_loss: 4.2254e-04\n",
      "Epoch 103/150\n",
      "27/27 [==============================] - 0s 13ms/step - loss: 1.3184e-04 - val_loss: 3.6817e-04\n",
      "Epoch 104/150\n",
      "27/27 [==============================] - 0s 12ms/step - loss: 1.4329e-04 - val_loss: 5.5786e-04\n",
      "Epoch 105/150\n",
      "27/27 [==============================] - 0s 12ms/step - loss: 2.0983e-04 - val_loss: 6.0296e-04\n",
      "Epoch 106/150\n",
      "27/27 [==============================] - 0s 12ms/step - loss: 1.5885e-04 - val_loss: 6.9069e-04\n",
      "Epoch 107/150\n",
      "27/27 [==============================] - 0s 11ms/step - loss: 1.2956e-04 - val_loss: 3.4375e-04\n",
      "Epoch 108/150\n",
      "27/27 [==============================] - 0s 12ms/step - loss: 1.4752e-04 - val_loss: 4.8931e-04\n",
      "Epoch 109/150\n",
      "27/27 [==============================] - 0s 12ms/step - loss: 1.1469e-04 - val_loss: 4.9295e-04\n",
      "Epoch 110/150\n",
      "27/27 [==============================] - 0s 12ms/step - loss: 1.2912e-04 - val_loss: 4.6470e-04\n",
      "Epoch 111/150\n",
      "27/27 [==============================] - 0s 12ms/step - loss: 1.1544e-04 - val_loss: 3.1713e-04\n",
      "Epoch 112/150\n",
      "27/27 [==============================] - 0s 12ms/step - loss: 1.3208e-04 - val_loss: 3.3567e-04\n",
      "Epoch 113/150\n",
      "27/27 [==============================] - 0s 12ms/step - loss: 1.2168e-04 - val_loss: 3.4994e-04\n",
      "Epoch 114/150\n",
      "27/27 [==============================] - 0s 13ms/step - loss: 1.1083e-04 - val_loss: 3.5471e-04\n",
      "Epoch 115/150\n",
      "27/27 [==============================] - 0s 12ms/step - loss: 1.1799e-04 - val_loss: 2.9471e-04\n",
      "Epoch 116/150\n",
      "27/27 [==============================] - 0s 12ms/step - loss: 1.3636e-04 - val_loss: 3.6097e-04\n",
      "Epoch 117/150\n",
      "27/27 [==============================] - 0s 11ms/step - loss: 1.3166e-04 - val_loss: 5.3894e-04\n",
      "Epoch 118/150\n",
      "27/27 [==============================] - 0s 12ms/step - loss: 1.1584e-04 - val_loss: 3.0423e-04\n",
      "Epoch 119/150\n",
      "27/27 [==============================] - 0s 12ms/step - loss: 1.0561e-04 - val_loss: 3.0446e-04\n",
      "Epoch 120/150\n",
      "27/27 [==============================] - 0s 11ms/step - loss: 1.0900e-04 - val_loss: 3.3953e-04\n",
      "Epoch 121/150\n",
      "27/27 [==============================] - 0s 12ms/step - loss: 1.0084e-04 - val_loss: 2.8993e-04\n",
      "Epoch 122/150\n",
      "27/27 [==============================] - 0s 12ms/step - loss: 1.0365e-04 - val_loss: 5.4449e-04\n",
      "Epoch 123/150\n",
      "27/27 [==============================] - 0s 12ms/step - loss: 1.0713e-04 - val_loss: 2.8797e-04\n",
      "Epoch 124/150\n",
      "27/27 [==============================] - 0s 12ms/step - loss: 1.2153e-04 - val_loss: 4.3725e-04\n",
      "Epoch 125/150\n",
      "27/27 [==============================] - 0s 12ms/step - loss: 1.0774e-04 - val_loss: 2.7911e-04\n",
      "Epoch 126/150\n",
      "27/27 [==============================] - 0s 11ms/step - loss: 9.9779e-05 - val_loss: 2.7253e-04\n",
      "Epoch 127/150\n",
      "27/27 [==============================] - 0s 13ms/step - loss: 1.1819e-04 - val_loss: 2.6875e-04\n",
      "Epoch 128/150\n",
      "27/27 [==============================] - 0s 12ms/step - loss: 1.0241e-04 - val_loss: 4.6982e-04\n",
      "Epoch 129/150\n",
      "27/27 [==============================] - 0s 12ms/step - loss: 9.5512e-05 - val_loss: 2.6752e-04\n",
      "Epoch 130/150\n",
      "27/27 [==============================] - 0s 12ms/step - loss: 1.0447e-04 - val_loss: 3.3965e-04\n",
      "Epoch 131/150\n",
      "27/27 [==============================] - 0s 12ms/step - loss: 1.0336e-04 - val_loss: 3.1895e-04\n",
      "Epoch 132/150\n",
      "27/27 [==============================] - 0s 11ms/step - loss: 9.2424e-05 - val_loss: 3.7941e-04\n",
      "Epoch 133/150\n",
      "27/27 [==============================] - 0s 12ms/step - loss: 1.2020e-04 - val_loss: 2.7916e-04\n",
      "Epoch 134/150\n",
      "27/27 [==============================] - 0s 12ms/step - loss: 9.3764e-05 - val_loss: 2.9161e-04\n",
      "Epoch 135/150\n",
      "27/27 [==============================] - 0s 12ms/step - loss: 9.9212e-05 - val_loss: 3.9449e-04\n",
      "Epoch 136/150\n",
      "27/27 [==============================] - 0s 12ms/step - loss: 1.0182e-04 - val_loss: 2.8242e-04\n",
      "Epoch 137/150\n",
      "27/27 [==============================] - 0s 12ms/step - loss: 1.0964e-04 - val_loss: 3.4885e-04\n",
      "Epoch 138/150\n",
      "27/27 [==============================] - 0s 11ms/step - loss: 1.1140e-04 - val_loss: 2.5896e-04\n",
      "Epoch 139/150\n",
      "27/27 [==============================] - 0s 12ms/step - loss: 9.0416e-05 - val_loss: 2.5516e-04\n",
      "Epoch 140/150\n",
      "27/27 [==============================] - 0s 12ms/step - loss: 8.9632e-05 - val_loss: 2.9121e-04\n",
      "Epoch 141/150\n",
      "27/27 [==============================] - 0s 12ms/step - loss: 9.3780e-05 - val_loss: 2.7121e-04\n",
      "Epoch 142/150\n",
      "27/27 [==============================] - 0s 13ms/step - loss: 9.8461e-05 - val_loss: 2.8079e-04\n",
      "Epoch 143/150\n",
      "27/27 [==============================] - 0s 12ms/step - loss: 8.7269e-05 - val_loss: 3.1155e-04\n",
      "Epoch 144/150\n",
      "27/27 [==============================] - 0s 11ms/step - loss: 1.2869e-04 - val_loss: 5.9147e-04\n",
      "Epoch 145/150\n",
      "27/27 [==============================] - 0s 12ms/step - loss: 9.0591e-05 - val_loss: 3.7171e-04\n",
      "Epoch 146/150\n",
      "27/27 [==============================] - 0s 12ms/step - loss: 1.0754e-04 - val_loss: 2.9947e-04\n",
      "Epoch 147/150\n",
      "27/27 [==============================] - 0s 12ms/step - loss: 1.0161e-04 - val_loss: 2.4682e-04\n",
      "Epoch 148/150\n",
      "27/27 [==============================] - 0s 12ms/step - loss: 1.1200e-04 - val_loss: 2.7331e-04\n",
      "Epoch 149/150\n",
      "27/27 [==============================] - 0s 12ms/step - loss: 8.8111e-05 - val_loss: 2.7433e-04\n",
      "Epoch 150/150\n",
      "27/27 [==============================] - 0s 12ms/step - loss: 8.4075e-05 - val_loss: 2.3761e-04\n"
     ]
    },
    {
     "data": {
      "text/plain": [
       "<keras.callbacks.History at 0x7fd88e318690>"
      ]
     },
     "execution_count": 16,
     "metadata": {},
     "output_type": "execute_result"
    }
   ],
   "source": [
    "model.fit(X_train,y_train,validation_data=(X_test,ytest),epochs=150,batch_size=64,verbose=1)"
   ]
  },
  {
   "cell_type": "markdown",
   "metadata": {},
   "source": [
    "### Predictions"
   ]
  },
  {
   "cell_type": "code",
   "execution_count": 17,
   "metadata": {
    "id": "YTPIJ0krE1lu"
   },
   "outputs": [],
   "source": [
    "### Lets Do the prediction and check performance metrics\n",
    "train_predict=model.predict(X_train)\n",
    "test_predict=model.predict(X_test)"
   ]
  },
  {
   "cell_type": "code",
   "execution_count": 18,
   "metadata": {
    "id": "glVt36IeE2TT"
   },
   "outputs": [],
   "source": [
    "##Transformback to original form\n",
    "train_predict=scaler.inverse_transform(train_predict)\n",
    "test_predict=scaler.inverse_transform(test_predict)"
   ]
  },
  {
   "cell_type": "code",
   "execution_count": 19,
   "metadata": {
    "colab": {
     "base_uri": "https://localhost:8080/"
    },
    "id": "0q1PY__uE2PY",
    "outputId": "9cd6f5d9-e5d8-43d4-a2d6-9630c7a3b4dc"
   },
   "outputs": [
    {
     "data": {
      "text/plain": [
       "259.4932058422618"
      ]
     },
     "execution_count": 19,
     "metadata": {},
     "output_type": "execute_result"
    }
   ],
   "source": [
    "math.sqrt(mean_squared_error(y_train,train_predict))"
   ]
  },
  {
   "cell_type": "code",
   "execution_count": 20,
   "metadata": {
    "colab": {
     "base_uri": "https://localhost:8080/"
    },
    "id": "V_TQ2T68E2I8",
    "outputId": "6ddb2d0a-4f22-4d7d-8713-ea93d06a18de"
   },
   "outputs": [
    {
     "data": {
      "text/plain": [
       "354.65493796410794"
      ]
     },
     "execution_count": 20,
     "metadata": {},
     "output_type": "execute_result"
    }
   ],
   "source": [
    "math.sqrt(mean_squared_error(ytest,test_predict))"
   ]
  },
  {
   "cell_type": "code",
   "execution_count": 49,
   "metadata": {
    "id": "kNzlw4GgRpQJ"
   },
   "outputs": [],
   "source": [
    "predict_test_lstm = pd.DataFrame()\n",
    "predict_test_lstm['Test Values'] = list(test_predict)"
   ]
  },
  {
   "cell_type": "code",
   "execution_count": 50,
   "metadata": {
    "id": "JxAGggF_VIap"
   },
   "outputs": [],
   "source": [
    "predict_train_lstm = pd.DataFrame()\n",
    "predict_train_lstm['Train Values'] = list(train_predict)"
   ]
  },
  {
   "cell_type": "code",
   "execution_count": 21,
   "metadata": {
    "colab": {
     "base_uri": "https://localhost:8080/",
     "height": 265
    },
    "id": "UG56F6ZxE1-f",
    "outputId": "8c20b8fb-d622-4f0d-c2af-42dae525fdc7",
    "scrolled": true
   },
   "outputs": [
    {
     "data": {
      "image/png": "[encoded data removed]",
      "text/plain": [
       "<Figure size 432x288 with 1 Axes>"
      ]
     },
     "metadata": {
      "needs_background": "light"
     },
     "output_type": "display_data"
    }
   ],
   "source": [
    "### Plotting \n",
    "# shift train predictions for plotting\n",
    "look_back=time_step\n",
    "trainPredictPlot = numpy.empty_like(data)\n",
    "trainPredictPlot[:, :] = np.nan\n",
    "trainPredictPlot[look_back:len(train_predict)+look_back, :] = train_predict\n",
    "# shift test predictions for plotting\n",
    "testPredictPlot = numpy.empty_like(data)\n",
    "testPredictPlot[:, :] = numpy.nan\n",
    "testPredictPlot[len(train_predict)+(look_back*2)+1:len(data)-1, :] = test_predict\n",
    "# plot baseline and predictions\n",
    "plt.plot(scaler.inverse_transform(data))\n",
    "plt.plot(trainPredictPlot)\n",
    "plt.plot(testPredictPlot)\n",
    "plt.show()"
   ]
  },
  {
   "cell_type": "markdown",
   "metadata": {},
   "source": [
    "Here we can see that the predicted values are almost overlapping the actual values."
   ]
  },
  {
   "cell_type": "markdown",
   "metadata": {},
   "source": [
    "### Forecast\n",
    "\n",
    "Since we want to forecast the next 30 days, we use the test data on the model and forecast for the next 30 days"
   ]
  },
  {
   "cell_type": "code",
   "execution_count": 22,
   "metadata": {
    "colab": {
     "base_uri": "https://localhost:8080/"
    },
    "id": "JEqD052EFXuV",
    "outputId": "0c4b6a08-6c8b-4994-c052-e4378fba6090"
   },
   "outputs": [
    {
     "data": {
      "text/plain": [
       "(1, 30)"
      ]
     },
     "execution_count": 22,
     "metadata": {},
     "output_type": "execute_result"
    }
   ],
   "source": [
    "test_len = len(test_data)\n",
    "x_input=test_data[(test_len-time_step):].reshape(1,-1)\n",
    "x_input.shape"
   ]
  },
  {
   "cell_type": "code",
   "execution_count": 23,
   "metadata": {
    "id": "FzUAd2cDGKJx"
   },
   "outputs": [],
   "source": [
    "temp_input=list(x_input)\n",
    "temp_input=temp_input[0].tolist()"
   ]
  },
  {
   "cell_type": "code",
   "execution_count": 24,
   "metadata": {
    "colab": {
     "base_uri": "https://localhost:8080/"
    },
    "id": "MJiNe9RkGNsK",
    "outputId": "a764b424-b1a2-4338-8ffe-375c30e8c0ec"
   },
   "outputs": [
    {
     "name": "stdout",
     "output_type": "stream",
     "text": [
      "[0.89353144]\n",
      "31\n",
      "1 day input [0.90983343 0.90586719 0.90912763 0.89674648 0.8798512  0.88066444\n",
      " 0.81961878 0.85157109 0.85895089 0.83644057 0.83827271 0.82912112\n",
      " 0.80354631 0.82594469 0.84227628 0.86130678 0.87079358 0.88257709\n",
      " 0.86520937 0.88716728 0.90521832 0.88750549 0.90872361 0.90553095\n",
      " 0.89631087 0.88580557 0.89073048 0.88938393 0.89533071 0.89353144]\n",
      "1 day output [[0.88982975]]\n",
      "2 day input [0.90586719 0.90912763 0.89674648 0.8798512  0.88066444 0.81961878\n",
      " 0.85157109 0.85895089 0.83644057 0.83827271 0.82912112 0.80354631\n",
      " 0.82594469 0.84227628 0.86130678 0.87079358 0.88257709 0.86520937\n",
      " 0.88716728 0.90521832 0.88750549 0.90872361 0.90553095 0.89631087\n",
      " 0.88580557 0.89073048 0.88938393 0.89533071 0.89353144 0.88982975]\n",
      "2 day output [[0.8861786]]\n",
      "3 day input [0.90912763 0.89674648 0.8798512  0.88066444 0.81961878 0.85157109\n",
      " 0.85895089 0.83644057 0.83827271 0.82912112 0.80354631 0.82594469\n",
      " 0.84227628 0.86130678 0.87079358 0.88257709 0.86520937 0.88716728\n",
      " 0.90521832 0.88750549 0.90872361 0.90553095 0.89631087 0.88580557\n",
      " 0.89073048 0.88938393 0.89533071 0.89353144 0.88982975 0.88617861]\n",
      "3 day output [[0.8824386]]\n",
      "4 day input [0.89674648 0.8798512  0.88066444 0.81961878 0.85157109 0.85895089\n",
      " 0.83644057 0.83827271 0.82912112 0.80354631 0.82594469 0.84227628\n",
      " 0.86130678 0.87079358 0.88257709 0.86520937 0.88716728 0.90521832\n",
      " 0.88750549 0.90872361 0.90553095 0.89631087 0.88580557 0.89073048\n",
      " 0.88938393 0.89533071 0.89353144 0.88982975 0.88617861 0.8824386 ]\n",
      "4 day output [[0.87890184]]\n",
      "5 day input [0.8798512  0.88066444 0.81961878 0.85157109 0.85895089 0.83644057\n",
      " 0.83827271 0.82912112 0.80354631 0.82594469 0.84227628 0.86130678\n",
      " 0.87079358 0.88257709 0.86520937 0.88716728 0.90521832 0.88750549\n",
      " 0.90872361 0.90553095 0.89631087 0.88580557 0.89073048 0.88938393\n",
      " 0.89533071 0.89353144 0.88982975 0.88617861 0.8824386  0.87890184]\n",
      "5 day output [[0.875592]]\n",
      "6 day input [0.88066444 0.81961878 0.85157109 0.85895089 0.83644057 0.83827271\n",
      " 0.82912112 0.80354631 0.82594469 0.84227628 0.86130678 0.87079358\n",
      " 0.88257709 0.86520937 0.88716728 0.90521832 0.88750549 0.90872361\n",
      " 0.90553095 0.89631087 0.88580557 0.89073048 0.88938393 0.89533071\n",
      " 0.89353144 0.88982975 0.88617861 0.8824386  0.87890184 0.87559199]\n",
      "6 day output [[0.8724762]]\n",
      "7 day input [0.81961878 0.85157109 0.85895089 0.83644057 0.83827271 0.82912112\n",
      " 0.80354631 0.82594469 0.84227628 0.86130678 0.87079358 0.88257709\n",
      " 0.86520937 0.88716728 0.90521832 0.88750549 0.90872361 0.90553095\n",
      " 0.89631087 0.88580557 0.89073048 0.88938393 0.89533071 0.89353144\n",
      " 0.88982975 0.88617861 0.8824386  0.87890184 0.87559199 0.87247622]\n",
      "7 day output [[0.8694951]]\n",
      "8 day input [0.85157109 0.85895089 0.83644057 0.83827271 0.82912112 0.80354631\n",
      " 0.82594469 0.84227628 0.86130678 0.87079358 0.88257709 0.86520937\n",
      " 0.88716728 0.90521832 0.88750549 0.90872361 0.90553095 0.89631087\n",
      " 0.88580557 0.89073048 0.88938393 0.89533071 0.89353144 0.88982975\n",
      " 0.88617861 0.8824386  0.87890184 0.87559199 0.87247622 0.86949509]\n",
      "8 day output [[0.8666235]]\n",
      "9 day input [0.85895089 0.83644057 0.83827271 0.82912112 0.80354631 0.82594469\n",
      " 0.84227628 0.86130678 0.87079358 0.88257709 0.86520937 0.88716728\n",
      " 0.90521832 0.88750549 0.90872361 0.90553095 0.89631087 0.88580557\n",
      " 0.89073048 0.88938393 0.89533071 0.89353144 0.88982975 0.88617861\n",
      " 0.8824386  0.87890184 0.87559199 0.87247622 0.86949509 0.86662352]\n",
      "9 day output [[0.86382324]]\n",
      "10 day input [0.83644057 0.83827271 0.82912112 0.80354631 0.82594469 0.84227628\n",
      " 0.86130678 0.87079358 0.88257709 0.86520937 0.88716728 0.90521832\n",
      " 0.88750549 0.90872361 0.90553095 0.89631087 0.88580557 0.89073048\n",
      " 0.88938393 0.89533071 0.89353144 0.88982975 0.88617861 0.8824386\n",
      " 0.87890184 0.87559199 0.87247622 0.86949509 0.86662352 0.86382324]\n",
      "10 day output [[0.86108774]]\n",
      "11 day input [0.83827271 0.82912112 0.80354631 0.82594469 0.84227628 0.86130678\n",
      " 0.87079358 0.88257709 0.86520937 0.88716728 0.90521832 0.88750549\n",
      " 0.90872361 0.90553095 0.89631087 0.88580557 0.89073048 0.88938393\n",
      " 0.89533071 0.89353144 0.88982975 0.88617861 0.8824386  0.87890184\n",
      " 0.87559199 0.87247622 0.86949509 0.86662352 0.86382324 0.86108774]\n",
      "11 day output [[0.8584408]]\n",
      "12 day input [0.82912112 0.80354631 0.82594469 0.84227628 0.86130678 0.87079358\n",
      " 0.88257709 0.86520937 0.88716728 0.90521832 0.88750549 0.90872361\n",
      " 0.90553095 0.89631087 0.88580557 0.89073048 0.88938393 0.89533071\n",
      " 0.89353144 0.88982975 0.88617861 0.8824386  0.87890184 0.87559199\n",
      " 0.87247622 0.86949509 0.86662352 0.86382324 0.86108774 0.85844082]\n",
      "12 day output [[0.8559043]]\n",
      "13 day input [0.80354631 0.82594469 0.84227628 0.86130678 0.87079358 0.88257709\n",
      " 0.86520937 0.88716728 0.90521832 0.88750549 0.90872361 0.90553095\n",
      " 0.89631087 0.88580557 0.89073048 0.88938393 0.89533071 0.89353144\n",
      " 0.88982975 0.88617861 0.8824386  0.87890184 0.87559199 0.87247622\n",
      " 0.86949509 0.86662352 0.86382324 0.86108774 0.85844082 0.85590428]\n",
      "13 day output [[0.8535025]]\n",
      "14 day input [0.82594469 0.84227628 0.86130678 0.87079358 0.88257709 0.86520937\n",
      " 0.88716728 0.90521832 0.88750549 0.90872361 0.90553095 0.89631087\n",
      " 0.88580557 0.89073048 0.88938393 0.89533071 0.89353144 0.88982975\n",
      " 0.88617861 0.8824386  0.87890184 0.87559199 0.87247622 0.86949509\n",
      " 0.86662352 0.86382324 0.86108774 0.85844082 0.85590428 0.85350251]\n",
      "14 day output [[0.8512595]]\n",
      "15 day input [0.84227628 0.86130678 0.87079358 0.88257709 0.86520937 0.88716728\n",
      " 0.90521832 0.88750549 0.90872361 0.90553095 0.89631087 0.88580557\n",
      " 0.89073048 0.88938393 0.89533071 0.89353144 0.88982975 0.88617861\n",
      " 0.8824386  0.87890184 0.87559199 0.87247622 0.86949509 0.86662352\n",
      " 0.86382324 0.86108774 0.85844082 0.85590428 0.85350251 0.85125953]\n",
      "15 day output [[0.8491718]]\n",
      "16 day input [0.86130678 0.87079358 0.88257709 0.86520937 0.88716728 0.90521832\n",
      " 0.88750549 0.90872361 0.90553095 0.89631087 0.88580557 0.89073048\n",
      " 0.88938393 0.89533071 0.89353144 0.88982975 0.88617861 0.8824386\n",
      " 0.87890184 0.87559199 0.87247622 0.86949509 0.86662352 0.86382324\n",
      " 0.86108774 0.85844082 0.85590428 0.85350251 0.85125953 0.84917182]\n",
      "16 day output [[0.8472318]]\n",
      "17 day input [0.87079358 0.88257709 0.86520937 0.88716728 0.90521832 0.88750549\n",
      " 0.90872361 0.90553095 0.89631087 0.88580557 0.89073048 0.88938393\n",
      " 0.89533071 0.89353144 0.88982975 0.88617861 0.8824386  0.87890184\n",
      " 0.87559199 0.87247622 0.86949509 0.86662352 0.86382324 0.86108774\n",
      " 0.85844082 0.85590428 0.85350251 0.85125953 0.84917182 0.84723181]\n",
      "17 day output [[0.8454297]]\n",
      "18 day input [0.88257709 0.86520937 0.88716728 0.90521832 0.88750549 0.90872361\n",
      " 0.90553095 0.89631087 0.88580557 0.89073048 0.88938393 0.89533071\n",
      " 0.89353144 0.88982975 0.88617861 0.8824386  0.87890184 0.87559199\n",
      " 0.87247622 0.86949509 0.86662352 0.86382324 0.86108774 0.85844082\n",
      " 0.85590428 0.85350251 0.85125953 0.84917182 0.84723181 0.84542972]\n",
      "18 day output [[0.84375846]]\n",
      "19 day input [0.86520937 0.88716728 0.90521832 0.88750549 0.90872361 0.90553095\n",
      " 0.89631087 0.88580557 0.89073048 0.88938393 0.89533071 0.89353144\n",
      " 0.88982975 0.88617861 0.8824386  0.87890184 0.87559199 0.87247622\n",
      " 0.86949509 0.86662352 0.86382324 0.86108774 0.85844082 0.85590428\n",
      " 0.85350251 0.85125953 0.84917182 0.84723181 0.84542972 0.84375846]\n",
      "19 day output [[0.84221065]]\n",
      "20 day input [0.88716728 0.90521832 0.88750549 0.90872361 0.90553095 0.89631087\n",
      " 0.88580557 0.89073048 0.88938393 0.89533071 0.89353144 0.88982975\n",
      " 0.88617861 0.8824386  0.87890184 0.87559199 0.87247622 0.86949509\n",
      " 0.86662352 0.86382324 0.86108774 0.85844082 0.85590428 0.85350251\n",
      " 0.85125953 0.84917182 0.84723181 0.84542972 0.84375846 0.84221065]\n",
      "20 day output [[0.840789]]\n",
      "21 day input [0.90521832 0.88750549 0.90872361 0.90553095 0.89631087 0.88580557\n",
      " 0.89073048 0.88938393 0.89533071 0.89353144 0.88982975 0.88617861\n",
      " 0.8824386  0.87890184 0.87559199 0.87247622 0.86949509 0.86662352\n",
      " 0.86382324 0.86108774 0.85844082 0.85590428 0.85350251 0.85125953\n",
      " 0.84917182 0.84723181 0.84542972 0.84375846 0.84221065 0.84078902]\n",
      "21 day output [[0.83947897]]\n",
      "22 day input [0.88750549 0.90872361 0.90553095 0.89631087 0.88580557 0.89073048\n",
      " 0.88938393 0.89533071 0.89353144 0.88982975 0.88617861 0.8824386\n",
      " 0.87890184 0.87559199 0.87247622 0.86949509 0.86662352 0.86382324\n",
      " 0.86108774 0.85844082 0.85590428 0.85350251 0.85125953 0.84917182\n",
      " 0.84723181 0.84542972 0.84375846 0.84221065 0.84078902 0.83947897]\n",
      "22 day output [[0.8382669]]\n",
      "23 day input [0.90872361 0.90553095 0.89631087 0.88580557 0.89073048 0.88938393\n",
      " 0.89533071 0.89353144 0.88982975 0.88617861 0.8824386  0.87890184\n",
      " 0.87559199 0.87247622 0.86949509 0.86662352 0.86382324 0.86108774\n",
      " 0.85844082 0.85590428 0.85350251 0.85125953 0.84917182 0.84723181\n",
      " 0.84542972 0.84375846 0.84221065 0.84078902 0.83947897 0.83826691]\n",
      "23 day output [[0.8371546]]\n",
      "24 day input [0.90553095 0.89631087 0.88580557 0.89073048 0.88938393 0.89533071\n",
      " 0.89353144 0.88982975 0.88617861 0.8824386  0.87890184 0.87559199\n",
      " 0.87247622 0.86949509 0.86662352 0.86382324 0.86108774 0.85844082\n",
      " 0.85590428 0.85350251 0.85125953 0.84917182 0.84723181 0.84542972\n",
      " 0.84375846 0.84221065 0.84078902 0.83947897 0.83826691 0.83715463]\n",
      "24 day output [[0.8361278]]\n",
      "25 day input [0.89631087 0.88580557 0.89073048 0.88938393 0.89533071 0.89353144\n",
      " 0.88982975 0.88617861 0.8824386  0.87890184 0.87559199 0.87247622\n",
      " 0.86949509 0.86662352 0.86382324 0.86108774 0.85844082 0.85590428\n",
      " 0.85350251 0.85125953 0.84917182 0.84723181 0.84542972 0.84375846\n",
      " 0.84221065 0.84078902 0.83947897 0.83826691 0.83715463 0.83612782]\n",
      "25 day output [[0.8351818]]\n",
      "26 day input [0.88580557 0.89073048 0.88938393 0.89533071 0.89353144 0.88982975\n",
      " 0.88617861 0.8824386  0.87890184 0.87559199 0.87247622 0.86949509\n",
      " 0.86662352 0.86382324 0.86108774 0.85844082 0.85590428 0.85350251\n",
      " 0.85125953 0.84917182 0.84723181 0.84542972 0.84375846 0.84221065\n",
      " 0.84078902 0.83947897 0.83826691 0.83715463 0.83612782 0.83518177]\n",
      "26 day output [[0.834316]]\n",
      "27 day input [0.89073048 0.88938393 0.89533071 0.89353144 0.88982975 0.88617861\n",
      " 0.8824386  0.87890184 0.87559199 0.87247622 0.86949509 0.86662352\n",
      " 0.86382324 0.86108774 0.85844082 0.85590428 0.85350251 0.85125953\n",
      " 0.84917182 0.84723181 0.84542972 0.84375846 0.84221065 0.84078902\n",
      " 0.83947897 0.83826691 0.83715463 0.83612782 0.83518177 0.83431602]\n",
      "27 day output [[0.83352816]]\n",
      "28 day input [0.88938393 0.89533071 0.89353144 0.88982975 0.88617861 0.8824386\n",
      " 0.87890184 0.87559199 0.87247622 0.86949509 0.86662352 0.86382324\n",
      " 0.86108774 0.85844082 0.85590428 0.85350251 0.85125953 0.84917182\n",
      " 0.84723181 0.84542972 0.84375846 0.84221065 0.84078902 0.83947897\n",
      " 0.83826691 0.83715463 0.83612782 0.83518177 0.83431602 0.83352816]\n",
      "28 day output [[0.8328085]]\n",
      "29 day input [0.89533071 0.89353144 0.88982975 0.88617861 0.8824386  0.87890184\n",
      " 0.87559199 0.87247622 0.86949509 0.86662352 0.86382324 0.86108774\n",
      " 0.85844082 0.85590428 0.85350251 0.85125953 0.84917182 0.84723181\n",
      " 0.84542972 0.84375846 0.84221065 0.84078902 0.83947897 0.83826691\n",
      " 0.83715463 0.83612782 0.83518177 0.83431602 0.83352816 0.83280849]\n",
      "29 day output [[0.83214945]]\n",
      "[[0.8935314416885376], [0.8898297548294067], [0.8861786127090454], [0.882438600063324], [0.8789018392562866], [0.8755919933319092], [0.8724762201309204], [0.8694950938224792], [0.8666235208511353], [0.8638232350349426], [0.8610877394676208], [0.8584408164024353], [0.8559042811393738], [0.8535025119781494], [0.8512595295906067], [0.8491718173027039], [0.8472318053245544], [0.8454297184944153], [0.8437584638595581], [0.8422106504440308], [0.8407890200614929], [0.8394789695739746], [0.838266909122467], [0.8371546268463135], [0.8361278176307678], [0.8351817727088928], [0.8343160152435303], [0.8335281610488892], [0.8328084945678711], [0.8321494460105896]]\n"
     ]
    }
   ],
   "source": [
    "# demonstrate prediction for next 30 days\n",
    "from numpy import array\n",
    "\n",
    "lst_output=[]\n",
    "n_steps=time_step\n",
    "i=0\n",
    "while(i<30):\n",
    "    \n",
    "    if(len(temp_input)>time_step):\n",
    "        #print(temp_input)\n",
    "        x_input=np.array(temp_input[1:])\n",
    "        print(\"{} day input {}\".format(i,x_input))\n",
    "        x_input=x_input.reshape(1,-1)\n",
    "        x_input = x_input.reshape((1, n_steps, 1))\n",
    "        #print(x_input)\n",
    "        yhat = model.predict(x_input, verbose=0)\n",
    "        print(\"{} day output {}\".format(i,yhat))\n",
    "        temp_input.extend(yhat[0].tolist())\n",
    "        temp_input=temp_input[1:]\n",
    "        #print(temp_input)\n",
    "        lst_output.extend(yhat.tolist())\n",
    "        i=i+1\n",
    "    else:\n",
    "        x_input = x_input.reshape((1, n_steps,1))\n",
    "        yhat = model.predict(x_input, verbose=0)\n",
    "        print(yhat[0])\n",
    "        temp_input.extend(yhat[0].tolist())\n",
    "        print(len(temp_input))\n",
    "        lst_output.extend(yhat.tolist())\n",
    "        i=i+1\n",
    "    \n",
    "\n",
    "print(lst_output)"
   ]
  },
  {
   "cell_type": "code",
   "execution_count": 25,
   "metadata": {
    "id": "FVZ5NZfCGbxX"
   },
   "outputs": [],
   "source": [
    "day_new=np.arange(1,31)\n",
    "day_pred=np.arange(31,61)"
   ]
  },
  {
   "cell_type": "code",
   "execution_count": 26,
   "metadata": {
    "id": "g5bNj3WSG4xg"
   },
   "outputs": [],
   "source": [
    "data_len = len(data)"
   ]
  },
  {
   "cell_type": "code",
   "execution_count": 27,
   "metadata": {
    "colab": {
     "base_uri": "https://localhost:8080/",
     "height": 283
    },
    "id": "tR97qzDQG_zX",
    "outputId": "7b8f2937-0253-47b3-b3b8-c46120a64f4c"
   },
   "outputs": [
    {
     "data": {
      "text/plain": [
       "[<matplotlib.lines.Line2D at 0x7fd888485e90>]"
      ]
     },
     "execution_count": 27,
     "metadata": {},
     "output_type": "execute_result"
    },
    {
     "data": {
      "image/png": "[encoded data removed]",
      "text/plain": [
       "<Figure size 432x288 with 1 Axes>"
      ]
     },
     "metadata": {
      "needs_background": "light"
     },
     "output_type": "display_data"
    }
   ],
   "source": [
    "plt.plot(day_new,scaler.inverse_transform(data[(data_len-time_step):]))\n",
    "plt.plot(day_pred,scaler.inverse_transform(lst_output))"
   ]
  },
  {
   "cell_type": "code",
   "execution_count": 28,
   "metadata": {
    "colab": {
     "base_uri": "https://localhost:8080/",
     "height": 283
    },
    "id": "XErX5k5IHSkE",
    "outputId": "380e2281-6566-4d77-ba54-951168aeca45"
   },
   "outputs": [
    {
     "data": {
      "text/plain": [
       "[<matplotlib.lines.Line2D at 0x7fd8883e1d50>]"
      ]
     },
     "execution_count": 28,
     "metadata": {},
     "output_type": "execute_result"
    },
    {
     "data": {
      "image/png": "[encoded data removed]",
      "text/plain": [
       "<Figure size 432x288 with 1 Axes>"
      ]
     },
     "metadata": {
      "needs_background": "light"
     },
     "output_type": "display_data"
    }
   ],
   "source": [
    "df3=data.tolist()\n",
    "df3.extend(lst_output)\n",
    "plt.plot(df3[1200:])"
   ]
  },
  {
   "cell_type": "code",
   "execution_count": 31,
   "metadata": {
    "colab": {
     "base_uri": "https://localhost:8080/"
    },
    "id": "QRWHseCPO6A_",
    "outputId": "8bd44df9-e5c3-44dc-ef4a-2500f0ea7ebd"
   },
   "outputs": [
    {
     "data": {
      "text/plain": [
       "2493"
      ]
     },
     "execution_count": 31,
     "metadata": {},
     "output_type": "execute_result"
    }
   ],
   "source": [
    "len(df3)"
   ]
  },
  {
   "cell_type": "code",
   "execution_count": 35,
   "metadata": {
    "id": "MGPTzIB1P1FL"
   },
   "outputs": [],
   "source": [
    "forecast = pd.DataFrame()"
   ]
  },
  {
   "cell_type": "code",
   "execution_count": 43,
   "metadata": {
    "id": "iKZgCF28Pnvt"
   },
   "outputs": [],
   "source": [
    "forecast['Prices'] = list(scaler.inverse_transform(df3))"
   ]
  },
  {
   "cell_type": "code",
   "execution_count": 51,
   "metadata": {
    "id": "YsKPQU7mVReZ"
   },
   "outputs": [],
   "source": [
    "forecast_lstm = forecast.copy()"
   ]
  },
  {
   "cell_type": "markdown",
   "metadata": {},
   "source": [
    "### Export Predicted and Forecasted Data"
   ]
  },
  {
   "cell_type": "code",
   "execution_count": 53,
   "metadata": {
    "id": "uqy6dHmkVUvn"
   },
   "outputs": [],
   "source": [
    "forecast_lstm.to_csv('/content/drive/MyDrive/lstm_forecast.csv')\n",
    "predict_test_lstm.to_csv('/content/drive/MyDrive/lstm_predicted_test.csv')\n",
    "predict_train_lstm.to_csv('/content/drive/MyDrive/lstm_predicted_train.csv')"
   ]
  }
 ],
 "metadata": {
  "accelerator": "GPU",
  "colab": {
   "collapsed_sections": [],
   "name": "LSTM Trial2",
   "provenance": []
  },
  "gpuClass": "standard",
  "kernelspec": {
   "display_name": "Python 3 (ipykernel)",
   "language": "python",
   "name": "python3"
  },
  "language_info": {
   "codemirror_mode": {
    "name": "ipython",
    "version": 3
   },
   "file_extension": ".py",
   "mimetype": "text/x-python",
   "name": "python",
   "nbconvert_exporter": "python",
   "pygments_lexer": "ipython3",
   "version": "3.9.7"
  }
 },
 "nbformat": 4,
 "nbformat_minor": 1
}
