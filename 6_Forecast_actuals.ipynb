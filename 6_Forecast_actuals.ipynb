{
 "cells": [
  {
   "cell_type": "markdown",
   "id": "667b8bca",
   "metadata": {},
   "source": [
    "# Actual Values for April 2022\n",
    "\n",
    "\n",
    "All the models we used for predictions we also forecasted the prices for a month to see how it would fare on a realtime basis, therefore we also quicly derive to actual prices to compare."
   ]
  },
  {
   "cell_type": "markdown",
   "id": "00698534",
   "metadata": {},
   "source": [
    "### Import Dependencies"
   ]
  },
  {
   "cell_type": "code",
   "execution_count": 1,
   "id": "ddda71da",
   "metadata": {},
   "outputs": [],
   "source": [
    "import yfinance as yf\n",
    "import pandas as pd\n",
    "import numpy as np"
   ]
  },
  {
   "cell_type": "markdown",
   "id": "bdbb4ce1",
   "metadata": {},
   "source": [
    "### Data Mining and processing\n"
   ]
  },
  {
   "cell_type": "code",
   "execution_count": 2,
   "id": "837ff6ea",
   "metadata": {},
   "outputs": [],
   "source": [
    "stocks = ['IOC','TCS','HDFCBANK','KOTAKBANK','LT','ITC']"
   ]
  },
  {
   "cell_type": "code",
   "execution_count": 3,
   "id": "b14a8ab2",
   "metadata": {},
   "outputs": [],
   "source": [
    "stocks_ns = [sub + '.NS' for sub in stocks]"
   ]
  },
  {
   "cell_type": "code",
   "execution_count": 4,
   "id": "f6f20ac3",
   "metadata": {},
   "outputs": [
    {
     "name": "stdout",
     "output_type": "stream",
     "text": [
      "[*********************100%***********************]  6 of 6 completed\n"
     ]
    }
   ],
   "source": [
    "data = yf.download(tickers=stocks_ns,start='2022-03-31',end='2022-04-30')"
   ]
  },
  {
   "cell_type": "code",
   "execution_count": 24,
   "id": "98f57920",
   "metadata": {},
   "outputs": [],
   "source": [
    "df = data[['Close']].reset_index()"
   ]
  },
  {
   "cell_type": "code",
   "execution_count": 25,
   "id": "d5749ff0",
   "metadata": {},
   "outputs": [],
   "source": [
    "df.columns = df.columns.droplevel()"
   ]
  },
  {
   "cell_type": "code",
   "execution_count": 26,
   "id": "ee580039",
   "metadata": {},
   "outputs": [],
   "source": [
    "df.rename(columns={df.columns[0]:'Date'},inplace=True)"
   ]
  },
  {
   "cell_type": "code",
   "execution_count": 27,
   "id": "0e034e3d",
   "metadata": {},
   "outputs": [],
   "source": [
    "df = df.set_index('Date')"
   ]
  },
  {
   "cell_type": "code",
   "execution_count": 30,
   "id": "09c74573",
   "metadata": {},
   "outputs": [],
   "source": [
    "df = df.asfreq('D')"
   ]
  },
  {
   "cell_type": "code",
   "execution_count": 31,
   "id": "55227a30",
   "metadata": {},
   "outputs": [],
   "source": [
    "df = df.fillna(method='bfill')"
   ]
  },
  {
   "cell_type": "code",
   "execution_count": 33,
   "id": "a19a0fad",
   "metadata": {},
   "outputs": [],
   "source": [
    "df = df.reset_index()"
   ]
  },
  {
   "cell_type": "markdown",
   "id": "72419712",
   "metadata": {},
   "source": [
    "### Portfolio Index Calculation\n",
    "\n",
    "Basis of the weights we calculated, we calculate an index value for the portfolio for the month of april"
   ]
  },
  {
   "cell_type": "code",
   "execution_count": 35,
   "id": "50ee1a57",
   "metadata": {},
   "outputs": [],
   "source": [
    "weights = pd.read_pickle('Weights.pkl')"
   ]
  },
  {
   "cell_type": "code",
   "execution_count": 37,
   "id": "7efef28e",
   "metadata": {},
   "outputs": [],
   "source": [
    "weights = weights.set_index('Stocks')"
   ]
  },
  {
   "cell_type": "code",
   "execution_count": 38,
   "id": "689a4c0c",
   "metadata": {},
   "outputs": [
    {
     "data": {
      "text/html": [
       "<div>\n",
       "<style scoped>\n",
       "    .dataframe tbody tr th:only-of-type {\n",
       "        vertical-align: middle;\n",
       "    }\n",
       "\n",
       "    .dataframe tbody tr th {\n",
       "        vertical-align: top;\n",
       "    }\n",
       "\n",
       "    .dataframe thead th {\n",
       "        text-align: right;\n",
       "    }\n",
       "</style>\n",
       "<table border=\"1\" class=\"dataframe\">\n",
       "  <thead>\n",
       "    <tr style=\"text-align: right;\">\n",
       "      <th></th>\n",
       "      <th>Prices</th>\n",
       "      <th>Units</th>\n",
       "      <th>Weights</th>\n",
       "    </tr>\n",
       "    <tr>\n",
       "      <th>Stocks</th>\n",
       "      <th></th>\n",
       "      <th></th>\n",
       "      <th></th>\n",
       "    </tr>\n",
       "  </thead>\n",
       "  <tbody>\n",
       "    <tr>\n",
       "      <th>ITC</th>\n",
       "      <td>249.199997</td>\n",
       "      <td>40.128411</td>\n",
       "      <td>0.274451</td>\n",
       "    </tr>\n",
       "    <tr>\n",
       "      <th>IOC</th>\n",
       "      <td>117.199997</td>\n",
       "      <td>85.324234</td>\n",
       "      <td>0.583560</td>\n",
       "    </tr>\n",
       "    <tr>\n",
       "      <th>LT</th>\n",
       "      <td>1773.599976</td>\n",
       "      <td>5.638250</td>\n",
       "      <td>0.038562</td>\n",
       "    </tr>\n",
       "    <tr>\n",
       "      <th>TCS</th>\n",
       "      <td>3731.550049</td>\n",
       "      <td>2.679852</td>\n",
       "      <td>0.018328</td>\n",
       "    </tr>\n",
       "    <tr>\n",
       "      <th>HDFCBANK</th>\n",
       "      <td>1476.949951</td>\n",
       "      <td>6.770710</td>\n",
       "      <td>0.046307</td>\n",
       "    </tr>\n",
       "    <tr>\n",
       "      <th>KOTAKBANK</th>\n",
       "      <td>1763.099976</td>\n",
       "      <td>5.671828</td>\n",
       "      <td>0.038791</td>\n",
       "    </tr>\n",
       "  </tbody>\n",
       "</table>\n",
       "</div>"
      ],
      "text/plain": [
       "                Prices      Units   Weights\n",
       "Stocks                                     \n",
       "ITC         249.199997  40.128411  0.274451\n",
       "IOC         117.199997  85.324234  0.583560\n",
       "LT         1773.599976   5.638250  0.038562\n",
       "TCS        3731.550049   2.679852  0.018328\n",
       "HDFCBANK   1476.949951   6.770710  0.046307\n",
       "KOTAKBANK  1763.099976   5.671828  0.038791"
      ]
     },
     "execution_count": 38,
     "metadata": {},
     "output_type": "execute_result"
    }
   ],
   "source": [
    "weights"
   ]
  },
  {
   "cell_type": "code",
   "execution_count": 41,
   "id": "6f8aa9c4",
   "metadata": {},
   "outputs": [],
   "source": [
    "df['Weighted_price'] = (df['ITC.NS']*weights.at['ITC', 'Weights'])+(df['IOC.NS']*weights.at['IOC', 'Weights'])+(df['LT.NS']*weights.at['LT', 'Weights'])+(df['HDFCBANK.NS']*weights.at['HDFCBANK', 'Weights'])+(df['TCS.NS']*weights.at['TCS', 'Weights'])+(df['KOTAKBANK.NS']*weights.at['KOTAKBANK', 'Weights'])"
   ]
  },
  {
   "cell_type": "code",
   "execution_count": 44,
   "id": "d90c3eaf",
   "metadata": {},
   "outputs": [],
   "source": [
    "df.to_pickle('Actuals_april_22.pkl')"
   ]
  }
 ],
 "metadata": {
  "kernelspec": {
   "display_name": "Python 3 (ipykernel)",
   "language": "python",
   "name": "python3"
  },
  "language_info": {
   "codemirror_mode": {
    "name": "ipython",
    "version": 3
   },
   "file_extension": ".py",
   "mimetype": "text/x-python",
   "name": "python",
   "nbconvert_exporter": "python",
   "pygments_lexer": "ipython3",
   "version": "3.9.7"
  }
 },
 "nbformat": 4,
 "nbformat_minor": 5
}
